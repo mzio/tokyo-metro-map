{
 "cells": [
  {
   "cell_type": "markdown",
   "metadata": {},
   "source": [
    "# Find Tokyo Metro Lines and Coordinates"
   ]
  },
  {
   "cell_type": "code",
   "execution_count": 3,
   "metadata": {
    "collapsed": true
   },
   "outputs": [],
   "source": [
    "import pandas as pd\n",
    "import numpy as np"
   ]
  },
  {
   "cell_type": "code",
   "execution_count": 4,
   "metadata": {
    "collapsed": true
   },
   "outputs": [],
   "source": [
    "import json"
   ]
  },
  {
   "cell_type": "code",
   "execution_count": 5,
   "metadata": {
    "collapsed": true
   },
   "outputs": [],
   "source": [
    "df_train_data = pd.read_json('../_data/raw-data.json')"
   ]
  },
  {
   "cell_type": "code",
   "execution_count": 6,
   "metadata": {
    "collapsed": true
   },
   "outputs": [],
   "source": [
    "list_train_lines_tokyo = df_train_data.iloc[12]['lines']"
   ]
  },
  {
   "cell_type": "code",
   "execution_count": 7,
   "metadata": {
    "collapsed": true
   },
   "outputs": [],
   "source": [
    "filter_tokyo_subway = np.array(list(map(lambda x: ('Toei' in x['name']['en']) or ('Metro' in x['name']['en']), list_train_lines_tokyo)))"
   ]
  },
  {
   "cell_type": "code",
   "execution_count": 8,
   "metadata": {
    "collapsed": true
   },
   "outputs": [],
   "source": [
    "list_subway_lines_tokyo = list(np.array(list_train_lines_tokyo)[filter_tokyo_subway])"
   ]
  },
  {
   "cell_type": "markdown",
   "metadata": {},
   "source": [
    "## Setup data storage object"
   ]
  },
  {
   "cell_type": "code",
   "execution_count": 9,
   "metadata": {
    "collapsed": true
   },
   "outputs": [],
   "source": [
    "dict_subways = {}"
   ]
  },
  {
   "cell_type": "code",
   "execution_count": 10,
   "metadata": {},
   "outputs": [
    {
     "data": {
      "text/plain": [
       "28001"
      ]
     },
     "execution_count": 10,
     "metadata": {},
     "output_type": "execute_result"
    }
   ],
   "source": [
    "list_subway_lines_tokyo[0]['id']"
   ]
  },
  {
   "cell_type": "code",
   "execution_count": 11,
   "metadata": {
    "collapsed": true
   },
   "outputs": [],
   "source": [
    "dict_subway_data = {}\n",
    "for line in list_subway_lines_tokyo:\n",
    "    name = line['name']['en']\n",
    "    stations = line['stations']\n",
    "    list_data = []\n",
    "    for station in stations:\n",
    "        list_data.append({'id': station['id'], 'name': station['name']['en'], \n",
    "                          'line_id': line['id'], 'line_name': name,\n",
    "                          'latitude': station['location']['lat'], 'longitude': station['location']['lng']})\n",
    "    dict_subway_data[name] = list_data"
   ]
  },
  {
   "cell_type": "markdown",
   "metadata": {},
   "source": [
    "### Convert lists to dataframes"
   ]
  },
  {
   "cell_type": "code",
   "execution_count": 12,
   "metadata": {
    "collapsed": true
   },
   "outputs": [],
   "source": [
    "for line in dict_subway_data:\n",
    "    dict_subway_data[line] = pd.DataFrame(dict_subway_data[line])"
   ]
  },
  {
   "cell_type": "code",
   "execution_count": 13,
   "metadata": {},
   "outputs": [
    {
     "data": {
      "text/plain": [
       "['Tokyo Metro Ginza Line',\n",
       " 'Tokyo Metro Marunouchi Line',\n",
       " 'Tokyo Metro Hibiya Line',\n",
       " 'Tokyo Metro Tozai Line',\n",
       " 'Tokyo Metro Chiyoda Line',\n",
       " 'Tokyo Metro Yurakucho Line',\n",
       " 'Tokyo Metro Hanzomon Line',\n",
       " 'Tokyo Metro Namboku Line',\n",
       " 'Tokyo Metro Fukutoshin Line',\n",
       " 'Toei Oedo Line',\n",
       " 'Toei Asakusa Line',\n",
       " 'Toei Mita Line',\n",
       " 'Toei Shinjuku Line']"
      ]
     },
     "execution_count": 13,
     "metadata": {},
     "output_type": "execute_result"
    }
   ],
   "source": [
    "list(dict_subway_data.keys())"
   ]
  },
  {
   "cell_type": "markdown",
   "metadata": {},
   "source": [
    "### Add neighboring station data"
   ]
  },
  {
   "cell_type": "code",
   "execution_count": 14,
   "metadata": {},
   "outputs": [],
   "source": [
    "for line in dict_subway_data:\n",
    "    dict_subway_data[line]['next_0_name'] = dict_subway_data[line].shift(1)['name']\n",
    "    dict_subway_data[line]['next_0_id'] = dict_subway_data[line].shift(1)['id']\n",
    "    dict_subway_data[line]['next_1_name'] = dict_subway_data[line].shift(-1)['name']\n",
    "    dict_subway_data[line]['next_1_id'] = dict_subway_data[line].shift(-1)['id']\n",
    "    dict_subway_data[line]['next_0_id'].fillna(0, inplace=True)\n",
    "    dict_subway_data[line]['next_1_id'].fillna(0, inplace=True)\n",
    "    dict_subway_data[line]['next_0_id'] = dict_subway_data[line]['next_0_id'].apply(lambda x: int(x))\n",
    "    dict_subway_data[line]['next_1_id'] = dict_subway_data[line]['next_1_id'].apply(lambda x: int(x))"
   ]
  },
  {
   "cell_type": "code",
   "execution_count": 15,
   "metadata": {},
   "outputs": [
    {
     "data": {
      "text/html": [
       "<div>\n",
       "<style>\n",
       "    .dataframe thead tr:only-child th {\n",
       "        text-align: right;\n",
       "    }\n",
       "\n",
       "    .dataframe thead th {\n",
       "        text-align: left;\n",
       "    }\n",
       "\n",
       "    .dataframe tbody tr th {\n",
       "        vertical-align: top;\n",
       "    }\n",
       "</style>\n",
       "<table border=\"1\" class=\"dataframe\">\n",
       "  <thead>\n",
       "    <tr style=\"text-align: right;\">\n",
       "      <th></th>\n",
       "      <th>id</th>\n",
       "      <th>latitude</th>\n",
       "      <th>line_id</th>\n",
       "      <th>line_name</th>\n",
       "      <th>longitude</th>\n",
       "      <th>name</th>\n",
       "      <th>next_0_name</th>\n",
       "      <th>next_0_id</th>\n",
       "      <th>next_1_name</th>\n",
       "      <th>next_1_id</th>\n",
       "    </tr>\n",
       "  </thead>\n",
       "  <tbody>\n",
       "    <tr>\n",
       "      <th>0</th>\n",
       "      <td>9930301</td>\n",
       "      <td>35.633272</td>\n",
       "      <td>99303</td>\n",
       "      <td>Toei Mita Line</td>\n",
       "      <td>139.715500</td>\n",
       "      <td>Meguro</td>\n",
       "      <td>NaN</td>\n",
       "      <td>0</td>\n",
       "      <td>Shirokanedai</td>\n",
       "      <td>9930302</td>\n",
       "    </tr>\n",
       "    <tr>\n",
       "      <th>1</th>\n",
       "      <td>9930302</td>\n",
       "      <td>35.637917</td>\n",
       "      <td>99303</td>\n",
       "      <td>Toei Mita Line</td>\n",
       "      <td>139.726133</td>\n",
       "      <td>Shirokanedai</td>\n",
       "      <td>Meguro</td>\n",
       "      <td>9930301</td>\n",
       "      <td>Shinkan Takanawa</td>\n",
       "      <td>9930303</td>\n",
       "    </tr>\n",
       "    <tr>\n",
       "      <th>2</th>\n",
       "      <td>9930303</td>\n",
       "      <td>35.642903</td>\n",
       "      <td>99303</td>\n",
       "      <td>Toei Mita Line</td>\n",
       "      <td>139.734104</td>\n",
       "      <td>Shinkan Takanawa</td>\n",
       "      <td>Shirokanedai</td>\n",
       "      <td>9930302</td>\n",
       "      <td>Mita</td>\n",
       "      <td>9930304</td>\n",
       "    </tr>\n",
       "    <tr>\n",
       "      <th>3</th>\n",
       "      <td>9930304</td>\n",
       "      <td>35.648180</td>\n",
       "      <td>99303</td>\n",
       "      <td>Toei Mita Line</td>\n",
       "      <td>139.748775</td>\n",
       "      <td>Mita</td>\n",
       "      <td>Shinkan Takanawa</td>\n",
       "      <td>9930303</td>\n",
       "      <td>Shibakoen</td>\n",
       "      <td>9930305</td>\n",
       "    </tr>\n",
       "    <tr>\n",
       "      <th>4</th>\n",
       "      <td>9930305</td>\n",
       "      <td>35.654074</td>\n",
       "      <td>99303</td>\n",
       "      <td>Toei Mita Line</td>\n",
       "      <td>139.749824</td>\n",
       "      <td>Shibakoen</td>\n",
       "      <td>Mita</td>\n",
       "      <td>9930304</td>\n",
       "      <td>The gate</td>\n",
       "      <td>9930306</td>\n",
       "    </tr>\n",
       "    <tr>\n",
       "      <th>5</th>\n",
       "      <td>9930306</td>\n",
       "      <td>35.661215</td>\n",
       "      <td>99303</td>\n",
       "      <td>Toei Mita Line</td>\n",
       "      <td>139.751535</td>\n",
       "      <td>The gate</td>\n",
       "      <td>Shibakoen</td>\n",
       "      <td>9930305</td>\n",
       "      <td>Uchisaiwasemachi</td>\n",
       "      <td>9930307</td>\n",
       "    </tr>\n",
       "    <tr>\n",
       "      <th>6</th>\n",
       "      <td>9930307</td>\n",
       "      <td>35.669750</td>\n",
       "      <td>99303</td>\n",
       "      <td>Toei Mita Line</td>\n",
       "      <td>139.755610</td>\n",
       "      <td>Uchisaiwasemachi</td>\n",
       "      <td>The gate</td>\n",
       "      <td>9930306</td>\n",
       "      <td>Hibiya</td>\n",
       "      <td>9930308</td>\n",
       "    </tr>\n",
       "    <tr>\n",
       "      <th>7</th>\n",
       "      <td>9930308</td>\n",
       "      <td>35.676036</td>\n",
       "      <td>99303</td>\n",
       "      <td>Toei Mita Line</td>\n",
       "      <td>139.759998</td>\n",
       "      <td>Hibiya</td>\n",
       "      <td>Uchisaiwasemachi</td>\n",
       "      <td>9930307</td>\n",
       "      <td>Otemachi</td>\n",
       "      <td>9930309</td>\n",
       "    </tr>\n",
       "    <tr>\n",
       "      <th>8</th>\n",
       "      <td>9930309</td>\n",
       "      <td>35.684856</td>\n",
       "      <td>99303</td>\n",
       "      <td>Toei Mita Line</td>\n",
       "      <td>139.762959</td>\n",
       "      <td>Otemachi</td>\n",
       "      <td>Hibiya</td>\n",
       "      <td>9930308</td>\n",
       "      <td>Jimbocho</td>\n",
       "      <td>9930310</td>\n",
       "    </tr>\n",
       "    <tr>\n",
       "      <th>9</th>\n",
       "      <td>9930310</td>\n",
       "      <td>35.695492</td>\n",
       "      <td>99303</td>\n",
       "      <td>Toei Mita Line</td>\n",
       "      <td>139.758120</td>\n",
       "      <td>Jimbocho</td>\n",
       "      <td>Otemachi</td>\n",
       "      <td>9930309</td>\n",
       "      <td>Aqueduct</td>\n",
       "      <td>9930311</td>\n",
       "    </tr>\n",
       "    <tr>\n",
       "      <th>10</th>\n",
       "      <td>9930311</td>\n",
       "      <td>35.703398</td>\n",
       "      <td>99303</td>\n",
       "      <td>Toei Mita Line</td>\n",
       "      <td>139.755160</td>\n",
       "      <td>Aqueduct</td>\n",
       "      <td>Jimbocho</td>\n",
       "      <td>9930310</td>\n",
       "      <td>Kasuga</td>\n",
       "      <td>9930312</td>\n",
       "    </tr>\n",
       "    <tr>\n",
       "      <th>11</th>\n",
       "      <td>9930312</td>\n",
       "      <td>35.709598</td>\n",
       "      <td>99303</td>\n",
       "      <td>Toei Mita Line</td>\n",
       "      <td>139.753250</td>\n",
       "      <td>Kasuga</td>\n",
       "      <td>Aqueduct</td>\n",
       "      <td>9930311</td>\n",
       "      <td>Hakusan</td>\n",
       "      <td>9930313</td>\n",
       "    </tr>\n",
       "    <tr>\n",
       "      <th>12</th>\n",
       "      <td>9930313</td>\n",
       "      <td>35.721408</td>\n",
       "      <td>99303</td>\n",
       "      <td>Toei Mita Line</td>\n",
       "      <td>139.752136</td>\n",
       "      <td>Hakusan</td>\n",
       "      <td>Kasuga</td>\n",
       "      <td>9930312</td>\n",
       "      <td>Sengoku</td>\n",
       "      <td>9930314</td>\n",
       "    </tr>\n",
       "    <tr>\n",
       "      <th>13</th>\n",
       "      <td>9930314</td>\n",
       "      <td>35.727957</td>\n",
       "      <td>99303</td>\n",
       "      <td>Toei Mita Line</td>\n",
       "      <td>139.744792</td>\n",
       "      <td>Sengoku</td>\n",
       "      <td>Hakusan</td>\n",
       "      <td>9930313</td>\n",
       "      <td>Sugamo</td>\n",
       "      <td>9930315</td>\n",
       "    </tr>\n",
       "    <tr>\n",
       "      <th>14</th>\n",
       "      <td>9930315</td>\n",
       "      <td>35.733502</td>\n",
       "      <td>99303</td>\n",
       "      <td>Toei Mita Line</td>\n",
       "      <td>139.738519</td>\n",
       "      <td>Sugamo</td>\n",
       "      <td>Sengoku</td>\n",
       "      <td>9930314</td>\n",
       "      <td>Nishikamo</td>\n",
       "      <td>9930316</td>\n",
       "    </tr>\n",
       "    <tr>\n",
       "      <th>15</th>\n",
       "      <td>9930316</td>\n",
       "      <td>35.743508</td>\n",
       "      <td>99303</td>\n",
       "      <td>Toei Mita Line</td>\n",
       "      <td>139.728712</td>\n",
       "      <td>Nishikamo</td>\n",
       "      <td>Sugamo</td>\n",
       "      <td>9930315</td>\n",
       "      <td>Shinbashi</td>\n",
       "      <td>9930317</td>\n",
       "    </tr>\n",
       "    <tr>\n",
       "      <th>16</th>\n",
       "      <td>9930317</td>\n",
       "      <td>35.748785</td>\n",
       "      <td>99303</td>\n",
       "      <td>Toei Mita Line</td>\n",
       "      <td>139.720101</td>\n",
       "      <td>Shinbashi</td>\n",
       "      <td>Nishikamo</td>\n",
       "      <td>9930316</td>\n",
       "      <td>Itabashi Ward Office</td>\n",
       "      <td>9930318</td>\n",
       "    </tr>\n",
       "    <tr>\n",
       "      <th>17</th>\n",
       "      <td>9930318</td>\n",
       "      <td>35.751284</td>\n",
       "      <td>99303</td>\n",
       "      <td>Toei Mita Line</td>\n",
       "      <td>139.710102</td>\n",
       "      <td>Itabashi Ward Office</td>\n",
       "      <td>Shinbashi</td>\n",
       "      <td>9930317</td>\n",
       "      <td>Itabashi Honcho</td>\n",
       "      <td>9930319</td>\n",
       "    </tr>\n",
       "    <tr>\n",
       "      <th>18</th>\n",
       "      <td>9930319</td>\n",
       "      <td>35.761339</td>\n",
       "      <td>99303</td>\n",
       "      <td>Toei Mita Line</td>\n",
       "      <td>139.705535</td>\n",
       "      <td>Itabashi Honcho</td>\n",
       "      <td>Itabashi Ward Office</td>\n",
       "      <td>9930318</td>\n",
       "      <td>This lotusuma</td>\n",
       "      <td>9930320</td>\n",
       "    </tr>\n",
       "    <tr>\n",
       "      <th>19</th>\n",
       "      <td>9930320</td>\n",
       "      <td>35.768782</td>\n",
       "      <td>99303</td>\n",
       "      <td>Toei Mita Line</td>\n",
       "      <td>139.702324</td>\n",
       "      <td>This lotusuma</td>\n",
       "      <td>Itabashi Honcho</td>\n",
       "      <td>9930319</td>\n",
       "      <td>Shimura Sakagami</td>\n",
       "      <td>9930321</td>\n",
       "    </tr>\n",
       "    <tr>\n",
       "      <th>20</th>\n",
       "      <td>9930321</td>\n",
       "      <td>35.775725</td>\n",
       "      <td>99303</td>\n",
       "      <td>Toei Mita Line</td>\n",
       "      <td>139.695380</td>\n",
       "      <td>Shimura Sakagami</td>\n",
       "      <td>This lotusuma</td>\n",
       "      <td>9930320</td>\n",
       "      <td>Shimura 3-chome</td>\n",
       "      <td>9930322</td>\n",
       "    </tr>\n",
       "    <tr>\n",
       "      <th>21</th>\n",
       "      <td>9930322</td>\n",
       "      <td>35.777391</td>\n",
       "      <td>99303</td>\n",
       "      <td>Toei Mita Line</td>\n",
       "      <td>139.685937</td>\n",
       "      <td>Shimura 3-chome</td>\n",
       "      <td>Shimura Sakagami</td>\n",
       "      <td>9930321</td>\n",
       "      <td>lotus root</td>\n",
       "      <td>9930323</td>\n",
       "    </tr>\n",
       "    <tr>\n",
       "      <th>22</th>\n",
       "      <td>9930323</td>\n",
       "      <td>35.784335</td>\n",
       "      <td>99303</td>\n",
       "      <td>Toei Mita Line</td>\n",
       "      <td>139.678993</td>\n",
       "      <td>lotus root</td>\n",
       "      <td>Shimura 3-chome</td>\n",
       "      <td>9930322</td>\n",
       "      <td>Nishidai</td>\n",
       "      <td>9930324</td>\n",
       "    </tr>\n",
       "    <tr>\n",
       "      <th>23</th>\n",
       "      <td>9930324</td>\n",
       "      <td>35.786990</td>\n",
       "      <td>99303</td>\n",
       "      <td>Toei Mita Line</td>\n",
       "      <td>139.673971</td>\n",
       "      <td>Nishidai</td>\n",
       "      <td>lotus root</td>\n",
       "      <td>9930323</td>\n",
       "      <td>Takashimairaira</td>\n",
       "      <td>9930325</td>\n",
       "    </tr>\n",
       "    <tr>\n",
       "      <th>24</th>\n",
       "      <td>9930325</td>\n",
       "      <td>35.789056</td>\n",
       "      <td>99303</td>\n",
       "      <td>Toei Mita Line</td>\n",
       "      <td>139.661216</td>\n",
       "      <td>Takashimairaira</td>\n",
       "      <td>Nishidai</td>\n",
       "      <td>9930324</td>\n",
       "      <td>Shin Takeshimairing</td>\n",
       "      <td>9930326</td>\n",
       "    </tr>\n",
       "    <tr>\n",
       "      <th>25</th>\n",
       "      <td>9930326</td>\n",
       "      <td>35.790189</td>\n",
       "      <td>99303</td>\n",
       "      <td>Toei Mita Line</td>\n",
       "      <td>139.654275</td>\n",
       "      <td>Shin Takeshimairing</td>\n",
       "      <td>Takashimairaira</td>\n",
       "      <td>9930325</td>\n",
       "      <td>Nishi Takashimairaira</td>\n",
       "      <td>9930327</td>\n",
       "    </tr>\n",
       "    <tr>\n",
       "      <th>26</th>\n",
       "      <td>9930327</td>\n",
       "      <td>35.791833</td>\n",
       "      <td>99303</td>\n",
       "      <td>Toei Mita Line</td>\n",
       "      <td>139.645940</td>\n",
       "      <td>Nishi Takashimairaira</td>\n",
       "      <td>Shin Takeshimairing</td>\n",
       "      <td>9930326</td>\n",
       "      <td>NaN</td>\n",
       "      <td>0</td>\n",
       "    </tr>\n",
       "  </tbody>\n",
       "</table>\n",
       "</div>"
      ],
      "text/plain": [
       "         id   latitude  line_id       line_name   longitude  \\\n",
       "0   9930301  35.633272    99303  Toei Mita Line  139.715500   \n",
       "1   9930302  35.637917    99303  Toei Mita Line  139.726133   \n",
       "2   9930303  35.642903    99303  Toei Mita Line  139.734104   \n",
       "3   9930304  35.648180    99303  Toei Mita Line  139.748775   \n",
       "4   9930305  35.654074    99303  Toei Mita Line  139.749824   \n",
       "5   9930306  35.661215    99303  Toei Mita Line  139.751535   \n",
       "6   9930307  35.669750    99303  Toei Mita Line  139.755610   \n",
       "7   9930308  35.676036    99303  Toei Mita Line  139.759998   \n",
       "8   9930309  35.684856    99303  Toei Mita Line  139.762959   \n",
       "9   9930310  35.695492    99303  Toei Mita Line  139.758120   \n",
       "10  9930311  35.703398    99303  Toei Mita Line  139.755160   \n",
       "11  9930312  35.709598    99303  Toei Mita Line  139.753250   \n",
       "12  9930313  35.721408    99303  Toei Mita Line  139.752136   \n",
       "13  9930314  35.727957    99303  Toei Mita Line  139.744792   \n",
       "14  9930315  35.733502    99303  Toei Mita Line  139.738519   \n",
       "15  9930316  35.743508    99303  Toei Mita Line  139.728712   \n",
       "16  9930317  35.748785    99303  Toei Mita Line  139.720101   \n",
       "17  9930318  35.751284    99303  Toei Mita Line  139.710102   \n",
       "18  9930319  35.761339    99303  Toei Mita Line  139.705535   \n",
       "19  9930320  35.768782    99303  Toei Mita Line  139.702324   \n",
       "20  9930321  35.775725    99303  Toei Mita Line  139.695380   \n",
       "21  9930322  35.777391    99303  Toei Mita Line  139.685937   \n",
       "22  9930323  35.784335    99303  Toei Mita Line  139.678993   \n",
       "23  9930324  35.786990    99303  Toei Mita Line  139.673971   \n",
       "24  9930325  35.789056    99303  Toei Mita Line  139.661216   \n",
       "25  9930326  35.790189    99303  Toei Mita Line  139.654275   \n",
       "26  9930327  35.791833    99303  Toei Mita Line  139.645940   \n",
       "\n",
       "                     name           next_0_name  next_0_id  \\\n",
       "0                  Meguro                   NaN          0   \n",
       "1            Shirokanedai                Meguro    9930301   \n",
       "2        Shinkan Takanawa          Shirokanedai    9930302   \n",
       "3                    Mita      Shinkan Takanawa    9930303   \n",
       "4               Shibakoen                  Mita    9930304   \n",
       "5                The gate             Shibakoen    9930305   \n",
       "6        Uchisaiwasemachi              The gate    9930306   \n",
       "7                  Hibiya      Uchisaiwasemachi    9930307   \n",
       "8                Otemachi                Hibiya    9930308   \n",
       "9                Jimbocho              Otemachi    9930309   \n",
       "10               Aqueduct              Jimbocho    9930310   \n",
       "11                 Kasuga              Aqueduct    9930311   \n",
       "12                Hakusan                Kasuga    9930312   \n",
       "13                Sengoku               Hakusan    9930313   \n",
       "14                 Sugamo               Sengoku    9930314   \n",
       "15              Nishikamo                Sugamo    9930315   \n",
       "16              Shinbashi             Nishikamo    9930316   \n",
       "17   Itabashi Ward Office             Shinbashi    9930317   \n",
       "18        Itabashi Honcho  Itabashi Ward Office    9930318   \n",
       "19          This lotusuma       Itabashi Honcho    9930319   \n",
       "20       Shimura Sakagami         This lotusuma    9930320   \n",
       "21        Shimura 3-chome      Shimura Sakagami    9930321   \n",
       "22             lotus root       Shimura 3-chome    9930322   \n",
       "23               Nishidai            lotus root    9930323   \n",
       "24        Takashimairaira              Nishidai    9930324   \n",
       "25    Shin Takeshimairing       Takashimairaira    9930325   \n",
       "26  Nishi Takashimairaira   Shin Takeshimairing    9930326   \n",
       "\n",
       "              next_1_name  next_1_id  \n",
       "0            Shirokanedai    9930302  \n",
       "1        Shinkan Takanawa    9930303  \n",
       "2                    Mita    9930304  \n",
       "3               Shibakoen    9930305  \n",
       "4                The gate    9930306  \n",
       "5        Uchisaiwasemachi    9930307  \n",
       "6                  Hibiya    9930308  \n",
       "7                Otemachi    9930309  \n",
       "8                Jimbocho    9930310  \n",
       "9                Aqueduct    9930311  \n",
       "10                 Kasuga    9930312  \n",
       "11                Hakusan    9930313  \n",
       "12                Sengoku    9930314  \n",
       "13                 Sugamo    9930315  \n",
       "14              Nishikamo    9930316  \n",
       "15              Shinbashi    9930317  \n",
       "16   Itabashi Ward Office    9930318  \n",
       "17        Itabashi Honcho    9930319  \n",
       "18          This lotusuma    9930320  \n",
       "19       Shimura Sakagami    9930321  \n",
       "20        Shimura 3-chome    9930322  \n",
       "21             lotus root    9930323  \n",
       "22               Nishidai    9930324  \n",
       "23        Takashimairaira    9930325  \n",
       "24    Shin Takeshimairing    9930326  \n",
       "25  Nishi Takashimairaira    9930327  \n",
       "26                    NaN          0  "
      ]
     },
     "execution_count": 15,
     "metadata": {},
     "output_type": "execute_result"
    }
   ],
   "source": [
    "dict_subway_data['Toei Mita Line']"
   ]
  },
  {
   "cell_type": "markdown",
   "metadata": {},
   "source": [
    "### Generate geojson"
   ]
  },
  {
   "cell_type": "code",
   "execution_count": 26,
   "metadata": {
    "collapsed": true
   },
   "outputs": [],
   "source": [
    "def row_to_geojson(row, json_list=[]):\n",
    "    dict = {\"type\": \"Feature\",\n",
    "            \"geometry\": {\n",
    "                \"type\": \"Point\",\n",
    "                \"coordinates\": [row['longitude'], row['latitude']]\n",
    "            },\n",
    "            \"properties\": {\n",
    "                \"next_0_name\": row['next_0_name'],\n",
    "                \"next_1_name\": row['next_1_name']\n",
    "            }}\n",
    "    json_list.append(dict)"
   ]
  },
  {
   "cell_type": "code",
   "execution_count": 78,
   "metadata": {
    "collapsed": true
   },
   "outputs": [
    {
     "data": {
      "text/plain": [
       "0     None\n",
       "1     None\n",
       "2     None\n",
       "3     None\n",
       "4     None\n",
       "5     None\n",
       "6     None\n",
       "7     None\n",
       "8     None\n",
       "9     None\n",
       "10    None\n",
       "11    None\n",
       "12    None\n",
       "13    None\n",
       "14    None\n",
       "15    None\n",
       "16    None\n",
       "17    None\n",
       "18    None\n",
       "dtype: object"
      ]
     },
     "execution_count": 78,
     "metadata": {},
     "output_type": "execute_result"
    }
   ],
   "source": [
    "json_list_ginza = []\n",
    "dict_subway_data['Tokyo Metro Ginza Line'].apply(lambda x: row_to_geojson(x, json_list=json_list_ginza), axis=1)"
   ]
  },
  {
   "cell_type": "code",
   "execution_count": 79,
   "metadata": {
    "collapsed": true
   },
   "outputs": [
    {
     "data": {
      "text/plain": [
       "'[{\"type\": \"Feature\", \"geometry\": {\"type\": \"Point\", \"coordinates\": [139.797592, 35.710733]}, \"properties\": {\"next_0_name\": NaN, \"next_1_name\": \"Tahara-cho\"}}, {\"type\": \"Feature\", \"geometry\": {\"type\": \"Point\", \"coordinates\": [139.790897, 35.709897]}, \"properties\": {\"next_0_name\": \"Asakusa\", \"next_1_name\": \"Inaricho\"}}, {\"type\": \"Feature\", \"geometry\": {\"type\": \"Point\", \"coordinates\": [139.782593, 35.711273]}, \"properties\": {\"next_0_name\": \"Tahara-cho\", \"next_1_name\": \"Ueno\"}}, {\"type\": \"Feature\", \"geometry\": {\"type\": \"Point\", \"coordinates\": [139.777122, 35.711482]}, \"properties\": {\"next_0_name\": \"Inaricho\", \"next_1_name\": \"Ueno Hirokoji\"}}, {\"type\": \"Feature\", \"geometry\": {\"type\": \"Point\", \"coordinates\": [139.772877, 35.70768]}, \"properties\": {\"next_0_name\": \"Ueno\", \"next_1_name\": \"Suehiro cho\"}}, {\"type\": \"Feature\", \"geometry\": {\"type\": \"Point\", \"coordinates\": [139.771713, 35.702972]}, \"properties\": {\"next_0_name\": \"Ueno Hirokoji\", \"next_1_name\": \"Kanda\"}}, {\"type\": \"Feature\", \"geometry\": {\"type\": \"Point\", \"coordinates\": [139.770899, 35.693587]}, \"properties\": {\"next_0_name\": \"Suehiro cho\", \"next_1_name\": \"Before Mitsukoshi\"}}, {\"type\": \"Feature\", \"geometry\": {\"type\": \"Point\", \"coordinates\": [139.773594, 35.687101]}, \"properties\": {\"next_0_name\": \"Kanda\", \"next_1_name\": \"Nihonbashi\"}}, {\"type\": \"Feature\", \"geometry\": {\"type\": \"Point\", \"coordinates\": [139.773516, 35.682078]}, \"properties\": {\"next_0_name\": \"Before Mitsukoshi\", \"next_1_name\": \"Kyobashi\"}}, {\"type\": \"Feature\", \"geometry\": {\"type\": \"Point\", \"coordinates\": [139.770126, 35.676856]}, \"properties\": {\"next_0_name\": \"Nihonbashi\", \"next_1_name\": \"Ginza\"}}, {\"type\": \"Feature\", \"geometry\": {\"type\": \"Point\", \"coordinates\": [139.763965, 35.671988999999996]}, \"properties\": {\"next_0_name\": \"Kyobashi\", \"next_1_name\": \"Shimbashi\"}}, {\"type\": \"Feature\", \"geometry\": {\"type\": \"Point\", \"coordinates\": [139.758432, 35.667434]}, \"properties\": {\"next_0_name\": \"Ginza\", \"next_1_name\": \"Toranomon\"}}, {\"type\": \"Feature\", \"geometry\": {\"type\": \"Point\", \"coordinates\": [139.749832, 35.670236]}, \"properties\": {\"next_0_name\": \"Shimbashi\", \"next_1_name\": \"Tameike San\"}}, {\"type\": \"Feature\", \"geometry\": {\"type\": \"Point\", \"coordinates\": [139.741419, 35.673621]}, \"properties\": {\"next_0_name\": \"Toranomon\", \"next_1_name\": \"Akasaka Mitsuke\"}}, {\"type\": \"Feature\", \"geometry\": {\"type\": \"Point\", \"coordinates\": [139.737047, 35.677021]}, \"properties\": {\"next_0_name\": \"Tameike San\", \"next_1_name\": \"Aoyama 1-chome\"}}, {\"type\": \"Feature\", \"geometry\": {\"type\": \"Point\", \"coordinates\": [139.724159, 35.672765]}, \"properties\": {\"next_0_name\": \"Akasaka Mitsuke\", \"next_1_name\": \"Gaienmae front\"}}, {\"type\": \"Feature\", \"geometry\": {\"type\": \"Point\", \"coordinates\": [139.717857, 35.670527]}, \"properties\": {\"next_0_name\": \"Aoyama 1-chome\", \"next_1_name\": \"Omotesando\"}}, {\"type\": \"Feature\", \"geometry\": {\"type\": \"Point\", \"coordinates\": [139.712314, 35.665247]}, \"properties\": {\"next_0_name\": \"Gaienmae front\", \"next_1_name\": \"Shibuya\"}}, {\"type\": \"Feature\", \"geometry\": {\"type\": \"Point\", \"coordinates\": [139.701, 35.659066]}, \"properties\": {\"next_0_name\": \"Omotesando\", \"next_1_name\": NaN}}]'"
      ]
     },
     "execution_count": 79,
     "metadata": {},
     "output_type": "execute_result"
    }
   ],
   "source": [
    "json.dumps(json_list_ginza)"
   ]
  },
  {
   "cell_type": "markdown",
   "metadata": {},
   "source": [
    "### Combine all station info into single dataframe"
   ]
  },
  {
   "cell_type": "code",
   "execution_count": 15,
   "metadata": {
    "collapsed": true
   },
   "outputs": [],
   "source": [
    "dfs = []\n",
    "for line in dict_subway_data:\n",
    "    dfs.append(dict_subway_data[line])\n",
    "df_subway_data = pd.concat(dfs).reset_index().drop('index', axis=1)"
   ]
  },
  {
   "cell_type": "markdown",
   "metadata": {},
   "source": [
    "### Color Mapping"
   ]
  },
  {
   "cell_type": "code",
   "execution_count": 16,
   "metadata": {
    "collapsed": true
   },
   "outputs": [],
   "source": [
    "line_colors = {'Toei Mita Line': '#0080c6', 'Tokyo Metro Yurakucho Line': '#bb8b38', \n",
    "               'Tokyo Metro Marunouchi Line': '#ed1c24', 'Tokyo Metro Tozai Line': '#00b2dd',\n",
    "               'Tokyo Metro Hanzomon Line': '#937cb9', 'Toei Shinjuku Line': '#6dc067',\n",
    "               'Tokyo Metro Hibiya Line': '#8ba2ae', 'Tokyo Metro Chiyoda Line': '#00a650',\n",
    "               'Toei Oedo Line': '#b51e82', 'Tokyo Metro Ginza Line': '#f7931d', \n",
    "               'Toei Asakusa Line': '#ef5ba1', 'Tokyo Metro Namboku Line': '#00b5ad', \n",
    "               'Tokyo Metro Fukutoshin Line': '#ba6831'}"
   ]
  },
  {
   "cell_type": "code",
   "execution_count": 17,
   "metadata": {
    "collapsed": true
   },
   "outputs": [],
   "source": [
    "df_subway_data['line_color'] = df_subway_data['line_name'].apply(lambda x: line_colors[x])"
   ]
  },
  {
   "cell_type": "code",
   "execution_count": 18,
   "metadata": {},
   "outputs": [
    {
     "data": {
      "text/html": [
       "<div>\n",
       "<style>\n",
       "    .dataframe thead tr:only-child th {\n",
       "        text-align: right;\n",
       "    }\n",
       "\n",
       "    .dataframe thead th {\n",
       "        text-align: left;\n",
       "    }\n",
       "\n",
       "    .dataframe tbody tr th {\n",
       "        vertical-align: top;\n",
       "    }\n",
       "</style>\n",
       "<table border=\"1\" class=\"dataframe\">\n",
       "  <thead>\n",
       "    <tr style=\"text-align: right;\">\n",
       "      <th></th>\n",
       "      <th>id</th>\n",
       "      <th>latitude</th>\n",
       "      <th>line_id</th>\n",
       "      <th>line_name</th>\n",
       "      <th>longitude</th>\n",
       "      <th>name</th>\n",
       "      <th>next_0_name</th>\n",
       "      <th>next_0_id</th>\n",
       "      <th>next_1_name</th>\n",
       "      <th>next_1_id</th>\n",
       "      <th>line_color</th>\n",
       "    </tr>\n",
       "  </thead>\n",
       "  <tbody>\n",
       "    <tr>\n",
       "      <th>0</th>\n",
       "      <td>2800101</td>\n",
       "      <td>35.710733</td>\n",
       "      <td>28001</td>\n",
       "      <td>Tokyo Metro Ginza Line</td>\n",
       "      <td>139.797592</td>\n",
       "      <td>Asakusa</td>\n",
       "      <td>NaN</td>\n",
       "      <td>0</td>\n",
       "      <td>Tahara-cho</td>\n",
       "      <td>2800102</td>\n",
       "      <td>#f7931d</td>\n",
       "    </tr>\n",
       "    <tr>\n",
       "      <th>1</th>\n",
       "      <td>2800102</td>\n",
       "      <td>35.709897</td>\n",
       "      <td>28001</td>\n",
       "      <td>Tokyo Metro Ginza Line</td>\n",
       "      <td>139.790897</td>\n",
       "      <td>Tahara-cho</td>\n",
       "      <td>Asakusa</td>\n",
       "      <td>2800101</td>\n",
       "      <td>Inaricho</td>\n",
       "      <td>2800103</td>\n",
       "      <td>#f7931d</td>\n",
       "    </tr>\n",
       "    <tr>\n",
       "      <th>2</th>\n",
       "      <td>2800103</td>\n",
       "      <td>35.711273</td>\n",
       "      <td>28001</td>\n",
       "      <td>Tokyo Metro Ginza Line</td>\n",
       "      <td>139.782593</td>\n",
       "      <td>Inaricho</td>\n",
       "      <td>Tahara-cho</td>\n",
       "      <td>2800102</td>\n",
       "      <td>Ueno</td>\n",
       "      <td>2800104</td>\n",
       "      <td>#f7931d</td>\n",
       "    </tr>\n",
       "    <tr>\n",
       "      <th>3</th>\n",
       "      <td>2800104</td>\n",
       "      <td>35.711482</td>\n",
       "      <td>28001</td>\n",
       "      <td>Tokyo Metro Ginza Line</td>\n",
       "      <td>139.777122</td>\n",
       "      <td>Ueno</td>\n",
       "      <td>Inaricho</td>\n",
       "      <td>2800103</td>\n",
       "      <td>Ueno Hirokoji</td>\n",
       "      <td>2800105</td>\n",
       "      <td>#f7931d</td>\n",
       "    </tr>\n",
       "    <tr>\n",
       "      <th>4</th>\n",
       "      <td>2800105</td>\n",
       "      <td>35.707680</td>\n",
       "      <td>28001</td>\n",
       "      <td>Tokyo Metro Ginza Line</td>\n",
       "      <td>139.772877</td>\n",
       "      <td>Ueno Hirokoji</td>\n",
       "      <td>Ueno</td>\n",
       "      <td>2800104</td>\n",
       "      <td>Suehiro cho</td>\n",
       "      <td>2800106</td>\n",
       "      <td>#f7931d</td>\n",
       "    </tr>\n",
       "  </tbody>\n",
       "</table>\n",
       "</div>"
      ],
      "text/plain": [
       "        id   latitude  line_id               line_name   longitude  \\\n",
       "0  2800101  35.710733    28001  Tokyo Metro Ginza Line  139.797592   \n",
       "1  2800102  35.709897    28001  Tokyo Metro Ginza Line  139.790897   \n",
       "2  2800103  35.711273    28001  Tokyo Metro Ginza Line  139.782593   \n",
       "3  2800104  35.711482    28001  Tokyo Metro Ginza Line  139.777122   \n",
       "4  2800105  35.707680    28001  Tokyo Metro Ginza Line  139.772877   \n",
       "\n",
       "            name next_0_name  next_0_id    next_1_name  next_1_id line_color  \n",
       "0        Asakusa         NaN          0     Tahara-cho    2800102    #f7931d  \n",
       "1     Tahara-cho     Asakusa    2800101       Inaricho    2800103    #f7931d  \n",
       "2       Inaricho  Tahara-cho    2800102           Ueno    2800104    #f7931d  \n",
       "3           Ueno    Inaricho    2800103  Ueno Hirokoji    2800105    #f7931d  \n",
       "4  Ueno Hirokoji        Ueno    2800104    Suehiro cho    2800106    #f7931d  "
      ]
     },
     "execution_count": 18,
     "metadata": {},
     "output_type": "execute_result"
    }
   ],
   "source": [
    "df_subway_data.head()"
   ]
  },
  {
   "cell_type": "markdown",
   "metadata": {},
   "source": [
    "### Save as CSV"
   ]
  },
  {
   "cell_type": "code",
   "execution_count": 21,
   "metadata": {
    "collapsed": true
   },
   "outputs": [],
   "source": [
    "df_subway_data.to_csv('../_data/df_subway_stations.csv')"
   ]
  },
  {
   "cell_type": "code",
   "execution_count": null,
   "metadata": {
    "collapsed": true
   },
   "outputs": [],
   "source": []
  }
 ],
 "metadata": {
  "kernelspec": {
   "display_name": "Python 3",
   "language": "python",
   "name": "python3"
  },
  "language_info": {
   "codemirror_mode": {
    "name": "ipython",
    "version": 3
   },
   "file_extension": ".py",
   "mimetype": "text/x-python",
   "name": "python",
   "nbconvert_exporter": "python",
   "pygments_lexer": "ipython3",
   "version": "3.6.3"
  }
 },
 "nbformat": 4,
 "nbformat_minor": 2
}
