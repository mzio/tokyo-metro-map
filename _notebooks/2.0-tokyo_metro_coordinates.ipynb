{
 "cells": [
  {
   "cell_type": "markdown",
   "metadata": {},
   "source": [
    "# Find Tokyo Metro Lines and Coordinates"
   ]
  },
  {
   "cell_type": "code",
   "execution_count": 1,
   "metadata": {
    "collapsed": true
   },
   "outputs": [],
   "source": [
    "import pandas as pd\n",
    "import numpy as np"
   ]
  },
  {
   "cell_type": "code",
   "execution_count": 6,
   "metadata": {
    "collapsed": true
   },
   "outputs": [],
   "source": [
    "import json"
   ]
  },
  {
   "cell_type": "code",
   "execution_count": 4,
   "metadata": {
    "collapsed": true
   },
   "outputs": [],
   "source": [
    "df_train_data = pd.read_json('../_data/raw-data.json')"
   ]
  },
  {
   "cell_type": "code",
   "execution_count": 23,
   "metadata": {},
   "outputs": [],
   "source": [
    "list_train_lines_tokyo = df_train_data.iloc[12]['lines']"
   ]
  },
  {
   "cell_type": "code",
   "execution_count": 38,
   "metadata": {},
   "outputs": [],
   "source": [
    "filter_tokyo_subway = np.array(list(map(lambda x: ('Toei' in x['name']['en']) or ('Metro' in x['name']['en']), list_train_lines_tokyo)))"
   ]
  },
  {
   "cell_type": "code",
   "execution_count": 41,
   "metadata": {},
   "outputs": [],
   "source": [
    "list_subway_lines_tokyo = list(np.array(list_train_lines_tokyo)[filter_tokyo_subway])"
   ]
  },
  {
   "cell_type": "markdown",
   "metadata": {},
   "source": [
    "## Setup data storage object"
   ]
  },
  {
   "cell_type": "code",
   "execution_count": 47,
   "metadata": {
    "collapsed": true
   },
   "outputs": [],
   "source": [
    "import pickle"
   ]
  },
  {
   "cell_type": "code",
   "execution_count": 48,
   "metadata": {
    "collapsed": true
   },
   "outputs": [],
   "source": [
    "dict_subways = {}"
   ]
  },
  {
   "cell_type": "code",
   "execution_count": 81,
   "metadata": {},
   "outputs": [
    {
     "data": {
      "text/plain": [
       "28001"
      ]
     },
     "execution_count": 81,
     "metadata": {},
     "output_type": "execute_result"
    }
   ],
   "source": [
    "list_subway_lines_tokyo[0]['id']"
   ]
  },
  {
   "cell_type": "code",
   "execution_count": 91,
   "metadata": {},
   "outputs": [],
   "source": [
    "dict_subway_data = {}\n",
    "for line in list_subway_lines_tokyo:\n",
    "    name = line['name']['en']\n",
    "    stations = line['stations']\n",
    "    list_data = []\n",
    "    for station in stations:\n",
    "        list_data.append({'id': station['id'], 'name': station['name']['en'], \n",
    "                          'line_id': line['id'], 'line_name': name,\n",
    "                          'latitude': station['location']['lat'], 'longitude': station['location']['lng']})\n",
    "    dict_subway_data[name] = list_data"
   ]
  },
  {
   "cell_type": "markdown",
   "metadata": {},
   "source": [
    "### Convert lists to dataframes"
   ]
  },
  {
   "cell_type": "code",
   "execution_count": 92,
   "metadata": {},
   "outputs": [],
   "source": [
    "for line in dict_subway_data:\n",
    "    dict_subway_data[line] = pd.DataFrame(dict_subway_data[line])"
   ]
  },
  {
   "cell_type": "code",
   "execution_count": 93,
   "metadata": {},
   "outputs": [
    {
     "data": {
      "text/plain": [
       "['Tokyo Metro Ginza Line',\n",
       " 'Tokyo Metro Marunouchi Line',\n",
       " 'Tokyo Metro Hibiya Line',\n",
       " 'Tokyo Metro Tozai Line',\n",
       " 'Tokyo Metro Chiyoda Line',\n",
       " 'Tokyo Metro Yurakucho Line',\n",
       " 'Tokyo Metro Hanzomon Line',\n",
       " 'Tokyo Metro Namboku Line',\n",
       " 'Tokyo Metro Fukutoshin Line',\n",
       " 'Toei Oedo Line',\n",
       " 'Toei Asakusa Line',\n",
       " 'Toei Mita Line',\n",
       " 'Toei Shinjuku Line']"
      ]
     },
     "execution_count": 93,
     "metadata": {},
     "output_type": "execute_result"
    }
   ],
   "source": [
    "list(dict_subway_data.keys())"
   ]
  },
  {
   "cell_type": "markdown",
   "metadata": {},
   "source": [
    "### Add neighboring station data"
   ]
  },
  {
   "cell_type": "code",
   "execution_count": 94,
   "metadata": {},
   "outputs": [],
   "source": [
    "for line in dict_subway_data:\n",
    "    dict_subway_data[line]['next_0_name'] = dict_subway_data[line].shift(1)['name']\n",
    "    dict_subway_data[line]['next_1_name'] = dict_subway_data[line].shift(-1)['name']"
   ]
  },
  {
   "cell_type": "code",
   "execution_count": 95,
   "metadata": {},
   "outputs": [
    {
     "data": {
      "text/html": [
       "<div>\n",
       "<style>\n",
       "    .dataframe thead tr:only-child th {\n",
       "        text-align: right;\n",
       "    }\n",
       "\n",
       "    .dataframe thead th {\n",
       "        text-align: left;\n",
       "    }\n",
       "\n",
       "    .dataframe tbody tr th {\n",
       "        vertical-align: top;\n",
       "    }\n",
       "</style>\n",
       "<table border=\"1\" class=\"dataframe\">\n",
       "  <thead>\n",
       "    <tr style=\"text-align: right;\">\n",
       "      <th></th>\n",
       "      <th>id</th>\n",
       "      <th>latitude</th>\n",
       "      <th>line_id</th>\n",
       "      <th>line_name</th>\n",
       "      <th>longitude</th>\n",
       "      <th>name</th>\n",
       "      <th>next_0_name</th>\n",
       "      <th>next_1_name</th>\n",
       "    </tr>\n",
       "  </thead>\n",
       "  <tbody>\n",
       "    <tr>\n",
       "      <th>0</th>\n",
       "      <td>2800101</td>\n",
       "      <td>35.710733</td>\n",
       "      <td>28001</td>\n",
       "      <td>Tokyo Metro Ginza Line</td>\n",
       "      <td>139.797592</td>\n",
       "      <td>Asakusa</td>\n",
       "      <td>NaN</td>\n",
       "      <td>Tahara-cho</td>\n",
       "    </tr>\n",
       "    <tr>\n",
       "      <th>1</th>\n",
       "      <td>2800102</td>\n",
       "      <td>35.709897</td>\n",
       "      <td>28001</td>\n",
       "      <td>Tokyo Metro Ginza Line</td>\n",
       "      <td>139.790897</td>\n",
       "      <td>Tahara-cho</td>\n",
       "      <td>Asakusa</td>\n",
       "      <td>Inaricho</td>\n",
       "    </tr>\n",
       "    <tr>\n",
       "      <th>2</th>\n",
       "      <td>2800103</td>\n",
       "      <td>35.711273</td>\n",
       "      <td>28001</td>\n",
       "      <td>Tokyo Metro Ginza Line</td>\n",
       "      <td>139.782593</td>\n",
       "      <td>Inaricho</td>\n",
       "      <td>Tahara-cho</td>\n",
       "      <td>Ueno</td>\n",
       "    </tr>\n",
       "    <tr>\n",
       "      <th>3</th>\n",
       "      <td>2800104</td>\n",
       "      <td>35.711482</td>\n",
       "      <td>28001</td>\n",
       "      <td>Tokyo Metro Ginza Line</td>\n",
       "      <td>139.777122</td>\n",
       "      <td>Ueno</td>\n",
       "      <td>Inaricho</td>\n",
       "      <td>Ueno Hirokoji</td>\n",
       "    </tr>\n",
       "    <tr>\n",
       "      <th>4</th>\n",
       "      <td>2800105</td>\n",
       "      <td>35.707680</td>\n",
       "      <td>28001</td>\n",
       "      <td>Tokyo Metro Ginza Line</td>\n",
       "      <td>139.772877</td>\n",
       "      <td>Ueno Hirokoji</td>\n",
       "      <td>Ueno</td>\n",
       "      <td>Suehiro cho</td>\n",
       "    </tr>\n",
       "    <tr>\n",
       "      <th>5</th>\n",
       "      <td>2800106</td>\n",
       "      <td>35.702972</td>\n",
       "      <td>28001</td>\n",
       "      <td>Tokyo Metro Ginza Line</td>\n",
       "      <td>139.771713</td>\n",
       "      <td>Suehiro cho</td>\n",
       "      <td>Ueno Hirokoji</td>\n",
       "      <td>Kanda</td>\n",
       "    </tr>\n",
       "    <tr>\n",
       "      <th>6</th>\n",
       "      <td>2800107</td>\n",
       "      <td>35.693587</td>\n",
       "      <td>28001</td>\n",
       "      <td>Tokyo Metro Ginza Line</td>\n",
       "      <td>139.770899</td>\n",
       "      <td>Kanda</td>\n",
       "      <td>Suehiro cho</td>\n",
       "      <td>Before Mitsukoshi</td>\n",
       "    </tr>\n",
       "    <tr>\n",
       "      <th>7</th>\n",
       "      <td>2800108</td>\n",
       "      <td>35.687101</td>\n",
       "      <td>28001</td>\n",
       "      <td>Tokyo Metro Ginza Line</td>\n",
       "      <td>139.773594</td>\n",
       "      <td>Before Mitsukoshi</td>\n",
       "      <td>Kanda</td>\n",
       "      <td>Nihonbashi</td>\n",
       "    </tr>\n",
       "    <tr>\n",
       "      <th>8</th>\n",
       "      <td>2800109</td>\n",
       "      <td>35.682078</td>\n",
       "      <td>28001</td>\n",
       "      <td>Tokyo Metro Ginza Line</td>\n",
       "      <td>139.773516</td>\n",
       "      <td>Nihonbashi</td>\n",
       "      <td>Before Mitsukoshi</td>\n",
       "      <td>Kyobashi</td>\n",
       "    </tr>\n",
       "    <tr>\n",
       "      <th>9</th>\n",
       "      <td>2800110</td>\n",
       "      <td>35.676856</td>\n",
       "      <td>28001</td>\n",
       "      <td>Tokyo Metro Ginza Line</td>\n",
       "      <td>139.770126</td>\n",
       "      <td>Kyobashi</td>\n",
       "      <td>Nihonbashi</td>\n",
       "      <td>Ginza</td>\n",
       "    </tr>\n",
       "    <tr>\n",
       "      <th>10</th>\n",
       "      <td>2800111</td>\n",
       "      <td>35.671989</td>\n",
       "      <td>28001</td>\n",
       "      <td>Tokyo Metro Ginza Line</td>\n",
       "      <td>139.763965</td>\n",
       "      <td>Ginza</td>\n",
       "      <td>Kyobashi</td>\n",
       "      <td>Shimbashi</td>\n",
       "    </tr>\n",
       "    <tr>\n",
       "      <th>11</th>\n",
       "      <td>2800112</td>\n",
       "      <td>35.667434</td>\n",
       "      <td>28001</td>\n",
       "      <td>Tokyo Metro Ginza Line</td>\n",
       "      <td>139.758432</td>\n",
       "      <td>Shimbashi</td>\n",
       "      <td>Ginza</td>\n",
       "      <td>Toranomon</td>\n",
       "    </tr>\n",
       "    <tr>\n",
       "      <th>12</th>\n",
       "      <td>2800113</td>\n",
       "      <td>35.670236</td>\n",
       "      <td>28001</td>\n",
       "      <td>Tokyo Metro Ginza Line</td>\n",
       "      <td>139.749832</td>\n",
       "      <td>Toranomon</td>\n",
       "      <td>Shimbashi</td>\n",
       "      <td>Tameike San</td>\n",
       "    </tr>\n",
       "    <tr>\n",
       "      <th>13</th>\n",
       "      <td>2800114</td>\n",
       "      <td>35.673621</td>\n",
       "      <td>28001</td>\n",
       "      <td>Tokyo Metro Ginza Line</td>\n",
       "      <td>139.741419</td>\n",
       "      <td>Tameike San</td>\n",
       "      <td>Toranomon</td>\n",
       "      <td>Akasaka Mitsuke</td>\n",
       "    </tr>\n",
       "    <tr>\n",
       "      <th>14</th>\n",
       "      <td>2800115</td>\n",
       "      <td>35.677021</td>\n",
       "      <td>28001</td>\n",
       "      <td>Tokyo Metro Ginza Line</td>\n",
       "      <td>139.737047</td>\n",
       "      <td>Akasaka Mitsuke</td>\n",
       "      <td>Tameike San</td>\n",
       "      <td>Aoyama 1-chome</td>\n",
       "    </tr>\n",
       "    <tr>\n",
       "      <th>15</th>\n",
       "      <td>2800116</td>\n",
       "      <td>35.672765</td>\n",
       "      <td>28001</td>\n",
       "      <td>Tokyo Metro Ginza Line</td>\n",
       "      <td>139.724159</td>\n",
       "      <td>Aoyama 1-chome</td>\n",
       "      <td>Akasaka Mitsuke</td>\n",
       "      <td>Gaienmae front</td>\n",
       "    </tr>\n",
       "    <tr>\n",
       "      <th>16</th>\n",
       "      <td>2800117</td>\n",
       "      <td>35.670527</td>\n",
       "      <td>28001</td>\n",
       "      <td>Tokyo Metro Ginza Line</td>\n",
       "      <td>139.717857</td>\n",
       "      <td>Gaienmae front</td>\n",
       "      <td>Aoyama 1-chome</td>\n",
       "      <td>Omotesando</td>\n",
       "    </tr>\n",
       "    <tr>\n",
       "      <th>17</th>\n",
       "      <td>2800118</td>\n",
       "      <td>35.665247</td>\n",
       "      <td>28001</td>\n",
       "      <td>Tokyo Metro Ginza Line</td>\n",
       "      <td>139.712314</td>\n",
       "      <td>Omotesando</td>\n",
       "      <td>Gaienmae front</td>\n",
       "      <td>Shibuya</td>\n",
       "    </tr>\n",
       "    <tr>\n",
       "      <th>18</th>\n",
       "      <td>2800119</td>\n",
       "      <td>35.659066</td>\n",
       "      <td>28001</td>\n",
       "      <td>Tokyo Metro Ginza Line</td>\n",
       "      <td>139.701000</td>\n",
       "      <td>Shibuya</td>\n",
       "      <td>Omotesando</td>\n",
       "      <td>NaN</td>\n",
       "    </tr>\n",
       "  </tbody>\n",
       "</table>\n",
       "</div>"
      ],
      "text/plain": [
       "         id   latitude  line_id               line_name   longitude  \\\n",
       "0   2800101  35.710733    28001  Tokyo Metro Ginza Line  139.797592   \n",
       "1   2800102  35.709897    28001  Tokyo Metro Ginza Line  139.790897   \n",
       "2   2800103  35.711273    28001  Tokyo Metro Ginza Line  139.782593   \n",
       "3   2800104  35.711482    28001  Tokyo Metro Ginza Line  139.777122   \n",
       "4   2800105  35.707680    28001  Tokyo Metro Ginza Line  139.772877   \n",
       "5   2800106  35.702972    28001  Tokyo Metro Ginza Line  139.771713   \n",
       "6   2800107  35.693587    28001  Tokyo Metro Ginza Line  139.770899   \n",
       "7   2800108  35.687101    28001  Tokyo Metro Ginza Line  139.773594   \n",
       "8   2800109  35.682078    28001  Tokyo Metro Ginza Line  139.773516   \n",
       "9   2800110  35.676856    28001  Tokyo Metro Ginza Line  139.770126   \n",
       "10  2800111  35.671989    28001  Tokyo Metro Ginza Line  139.763965   \n",
       "11  2800112  35.667434    28001  Tokyo Metro Ginza Line  139.758432   \n",
       "12  2800113  35.670236    28001  Tokyo Metro Ginza Line  139.749832   \n",
       "13  2800114  35.673621    28001  Tokyo Metro Ginza Line  139.741419   \n",
       "14  2800115  35.677021    28001  Tokyo Metro Ginza Line  139.737047   \n",
       "15  2800116  35.672765    28001  Tokyo Metro Ginza Line  139.724159   \n",
       "16  2800117  35.670527    28001  Tokyo Metro Ginza Line  139.717857   \n",
       "17  2800118  35.665247    28001  Tokyo Metro Ginza Line  139.712314   \n",
       "18  2800119  35.659066    28001  Tokyo Metro Ginza Line  139.701000   \n",
       "\n",
       "                 name        next_0_name        next_1_name  \n",
       "0             Asakusa                NaN         Tahara-cho  \n",
       "1          Tahara-cho            Asakusa           Inaricho  \n",
       "2            Inaricho         Tahara-cho               Ueno  \n",
       "3                Ueno           Inaricho      Ueno Hirokoji  \n",
       "4       Ueno Hirokoji               Ueno        Suehiro cho  \n",
       "5         Suehiro cho      Ueno Hirokoji              Kanda  \n",
       "6               Kanda        Suehiro cho  Before Mitsukoshi  \n",
       "7   Before Mitsukoshi              Kanda         Nihonbashi  \n",
       "8          Nihonbashi  Before Mitsukoshi           Kyobashi  \n",
       "9            Kyobashi         Nihonbashi              Ginza  \n",
       "10              Ginza           Kyobashi          Shimbashi  \n",
       "11          Shimbashi              Ginza          Toranomon  \n",
       "12          Toranomon          Shimbashi        Tameike San  \n",
       "13        Tameike San          Toranomon    Akasaka Mitsuke  \n",
       "14    Akasaka Mitsuke        Tameike San     Aoyama 1-chome  \n",
       "15     Aoyama 1-chome    Akasaka Mitsuke     Gaienmae front  \n",
       "16     Gaienmae front     Aoyama 1-chome         Omotesando  \n",
       "17         Omotesando     Gaienmae front            Shibuya  \n",
       "18            Shibuya         Omotesando                NaN  "
      ]
     },
     "execution_count": 95,
     "metadata": {},
     "output_type": "execute_result"
    }
   ],
   "source": [
    "dict_subway_data['Tokyo Metro Ginza Line']"
   ]
  },
  {
   "cell_type": "markdown",
   "metadata": {},
   "source": [
    "### Generate geojson"
   ]
  },
  {
   "cell_type": "code",
   "execution_count": 77,
   "metadata": {
    "collapsed": true
   },
   "outputs": [],
   "source": [
    "def row_to_geojson(row, json_list=[]):\n",
    "    dict = {\"type\": \"Feature\",\n",
    "            \"geometry\": {\n",
    "                \"type\": \"Point\",\n",
    "                \"coordinates\": [row['longitude'], row['latitude']]\n",
    "            },\n",
    "            \"properties\": {\n",
    "                \"next_0_name\": row['next_0_name'],\n",
    "                \"next_1_name\": row['next_1_name']\n",
    "            }}\n",
    "    json_list.append(dict)"
   ]
  },
  {
   "cell_type": "code",
   "execution_count": 78,
   "metadata": {
    "collapsed": true
   },
   "outputs": [
    {
     "data": {
      "text/plain": [
       "0     None\n",
       "1     None\n",
       "2     None\n",
       "3     None\n",
       "4     None\n",
       "5     None\n",
       "6     None\n",
       "7     None\n",
       "8     None\n",
       "9     None\n",
       "10    None\n",
       "11    None\n",
       "12    None\n",
       "13    None\n",
       "14    None\n",
       "15    None\n",
       "16    None\n",
       "17    None\n",
       "18    None\n",
       "dtype: object"
      ]
     },
     "execution_count": 78,
     "metadata": {},
     "output_type": "execute_result"
    }
   ],
   "source": [
    "json_list_ginza = []\n",
    "dict_subway_data['Tokyo Metro Ginza Line'].apply(lambda x: row_to_geojson(x, json_list=json_list_ginza), axis=1)"
   ]
  },
  {
   "cell_type": "code",
   "execution_count": 79,
   "metadata": {
    "collapsed": true
   },
   "outputs": [
    {
     "data": {
      "text/plain": [
       "'[{\"type\": \"Feature\", \"geometry\": {\"type\": \"Point\", \"coordinates\": [139.797592, 35.710733]}, \"properties\": {\"next_0_name\": NaN, \"next_1_name\": \"Tahara-cho\"}}, {\"type\": \"Feature\", \"geometry\": {\"type\": \"Point\", \"coordinates\": [139.790897, 35.709897]}, \"properties\": {\"next_0_name\": \"Asakusa\", \"next_1_name\": \"Inaricho\"}}, {\"type\": \"Feature\", \"geometry\": {\"type\": \"Point\", \"coordinates\": [139.782593, 35.711273]}, \"properties\": {\"next_0_name\": \"Tahara-cho\", \"next_1_name\": \"Ueno\"}}, {\"type\": \"Feature\", \"geometry\": {\"type\": \"Point\", \"coordinates\": [139.777122, 35.711482]}, \"properties\": {\"next_0_name\": \"Inaricho\", \"next_1_name\": \"Ueno Hirokoji\"}}, {\"type\": \"Feature\", \"geometry\": {\"type\": \"Point\", \"coordinates\": [139.772877, 35.70768]}, \"properties\": {\"next_0_name\": \"Ueno\", \"next_1_name\": \"Suehiro cho\"}}, {\"type\": \"Feature\", \"geometry\": {\"type\": \"Point\", \"coordinates\": [139.771713, 35.702972]}, \"properties\": {\"next_0_name\": \"Ueno Hirokoji\", \"next_1_name\": \"Kanda\"}}, {\"type\": \"Feature\", \"geometry\": {\"type\": \"Point\", \"coordinates\": [139.770899, 35.693587]}, \"properties\": {\"next_0_name\": \"Suehiro cho\", \"next_1_name\": \"Before Mitsukoshi\"}}, {\"type\": \"Feature\", \"geometry\": {\"type\": \"Point\", \"coordinates\": [139.773594, 35.687101]}, \"properties\": {\"next_0_name\": \"Kanda\", \"next_1_name\": \"Nihonbashi\"}}, {\"type\": \"Feature\", \"geometry\": {\"type\": \"Point\", \"coordinates\": [139.773516, 35.682078]}, \"properties\": {\"next_0_name\": \"Before Mitsukoshi\", \"next_1_name\": \"Kyobashi\"}}, {\"type\": \"Feature\", \"geometry\": {\"type\": \"Point\", \"coordinates\": [139.770126, 35.676856]}, \"properties\": {\"next_0_name\": \"Nihonbashi\", \"next_1_name\": \"Ginza\"}}, {\"type\": \"Feature\", \"geometry\": {\"type\": \"Point\", \"coordinates\": [139.763965, 35.671988999999996]}, \"properties\": {\"next_0_name\": \"Kyobashi\", \"next_1_name\": \"Shimbashi\"}}, {\"type\": \"Feature\", \"geometry\": {\"type\": \"Point\", \"coordinates\": [139.758432, 35.667434]}, \"properties\": {\"next_0_name\": \"Ginza\", \"next_1_name\": \"Toranomon\"}}, {\"type\": \"Feature\", \"geometry\": {\"type\": \"Point\", \"coordinates\": [139.749832, 35.670236]}, \"properties\": {\"next_0_name\": \"Shimbashi\", \"next_1_name\": \"Tameike San\"}}, {\"type\": \"Feature\", \"geometry\": {\"type\": \"Point\", \"coordinates\": [139.741419, 35.673621]}, \"properties\": {\"next_0_name\": \"Toranomon\", \"next_1_name\": \"Akasaka Mitsuke\"}}, {\"type\": \"Feature\", \"geometry\": {\"type\": \"Point\", \"coordinates\": [139.737047, 35.677021]}, \"properties\": {\"next_0_name\": \"Tameike San\", \"next_1_name\": \"Aoyama 1-chome\"}}, {\"type\": \"Feature\", \"geometry\": {\"type\": \"Point\", \"coordinates\": [139.724159, 35.672765]}, \"properties\": {\"next_0_name\": \"Akasaka Mitsuke\", \"next_1_name\": \"Gaienmae front\"}}, {\"type\": \"Feature\", \"geometry\": {\"type\": \"Point\", \"coordinates\": [139.717857, 35.670527]}, \"properties\": {\"next_0_name\": \"Aoyama 1-chome\", \"next_1_name\": \"Omotesando\"}}, {\"type\": \"Feature\", \"geometry\": {\"type\": \"Point\", \"coordinates\": [139.712314, 35.665247]}, \"properties\": {\"next_0_name\": \"Gaienmae front\", \"next_1_name\": \"Shibuya\"}}, {\"type\": \"Feature\", \"geometry\": {\"type\": \"Point\", \"coordinates\": [139.701, 35.659066]}, \"properties\": {\"next_0_name\": \"Omotesando\", \"next_1_name\": NaN}}]'"
      ]
     },
     "execution_count": 79,
     "metadata": {},
     "output_type": "execute_result"
    }
   ],
   "source": [
    "json.dumps(json_list_ginza)"
   ]
  },
  {
   "cell_type": "markdown",
   "metadata": {},
   "source": [
    "### Combine all station info into single dataframe"
   ]
  },
  {
   "cell_type": "code",
   "execution_count": 108,
   "metadata": {},
   "outputs": [],
   "source": [
    "dfs = []\n",
    "for line in dict_subway_data:\n",
    "    dfs.append(dict_subway_data[line])\n",
    "df_subway_data = pd.concat(dfs).reset_index().drop('index', axis=1)"
   ]
  },
  {
   "cell_type": "markdown",
   "metadata": {},
   "source": [
    "### Save as CSV"
   ]
  },
  {
   "cell_type": "code",
   "execution_count": 110,
   "metadata": {},
   "outputs": [],
   "source": [
    "df_subway_data.to_csv('../_data/df_subway_stations')"
   ]
  },
  {
   "cell_type": "code",
   "execution_count": null,
   "metadata": {
    "collapsed": true
   },
   "outputs": [],
   "source": []
  }
 ],
 "metadata": {
  "kernelspec": {
   "display_name": "Python 3",
   "language": "python",
   "name": "python3"
  },
  "language_info": {
   "codemirror_mode": {
    "name": "ipython",
    "version": 3
   },
   "file_extension": ".py",
   "mimetype": "text/x-python",
   "name": "python",
   "nbconvert_exporter": "python",
   "pygments_lexer": "ipython3",
   "version": "3.6.3"
  }
 },
 "nbformat": 4,
 "nbformat_minor": 2
}
