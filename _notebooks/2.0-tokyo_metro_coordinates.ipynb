{
 "cells": [
  {
   "cell_type": "markdown",
   "metadata": {},
   "source": [
    "# Find Tokyo Metro Lines and Coordinates"
   ]
  },
  {
   "cell_type": "code",
   "execution_count": 1,
   "metadata": {
    "collapsed": true
   },
   "outputs": [],
   "source": [
    "import pandas as pd\n",
    "import numpy as np"
   ]
  },
  {
   "cell_type": "code",
   "execution_count": 6,
   "metadata": {
    "collapsed": true
   },
   "outputs": [],
   "source": [
    "import json"
   ]
  },
  {
   "cell_type": "code",
   "execution_count": 4,
   "metadata": {
    "collapsed": true
   },
   "outputs": [],
   "source": [
    "df_train_data = pd.read_json('../_data/raw-data.json')"
   ]
  },
  {
   "cell_type": "code",
   "execution_count": 23,
   "metadata": {},
   "outputs": [],
   "source": [
    "list_train_lines_tokyo = df_train_data.iloc[12]['lines']"
   ]
  },
  {
   "cell_type": "code",
   "execution_count": 38,
   "metadata": {},
   "outputs": [],
   "source": [
    "filter_tokyo_subway = np.array(list(map(lambda x: ('Toei' in x['name']['en']) or ('Metro' in x['name']['en']), list_train_lines_tokyo)))"
   ]
  },
  {
   "cell_type": "code",
   "execution_count": 41,
   "metadata": {},
   "outputs": [],
   "source": [
    "list_subway_lines_tokyo = list(np.array(list_train_lines_tokyo)[filter_tokyo_subway])"
   ]
  },
  {
   "cell_type": "markdown",
   "metadata": {},
   "source": [
    "### Setup data storage object"
   ]
  },
  {
   "cell_type": "code",
   "execution_count": 47,
   "metadata": {
    "collapsed": true
   },
   "outputs": [],
   "source": [
    "import pickle"
   ]
  },
  {
   "cell_type": "code",
   "execution_count": 48,
   "metadata": {
    "collapsed": true
   },
   "outputs": [],
   "source": [
    "dict_subways = {}"
   ]
  },
  {
   "cell_type": "code",
   "execution_count": 46,
   "metadata": {},
   "outputs": [
    {
     "data": {
      "text/plain": [
       "'Tokyo Metro Ginza Line'"
      ]
     },
     "execution_count": 46,
     "metadata": {},
     "output_type": "execute_result"
    }
   ],
   "source": [
    "list_subway_lines_tokyo[0]['name']['en']"
   ]
  },
  {
   "cell_type": "code",
   "execution_count": 57,
   "metadata": {},
   "outputs": [],
   "source": [
    "dict_subway_data = {}\n",
    "for line in list_subway_lines_tokyo:\n",
    "    name = line['name']['en']\n",
    "    stations = line['stations']\n",
    "    list_data = []\n",
    "    for station in stations:\n",
    "        list_data.append({'id': station['id'], 'name': station['name']['en'],\n",
    "                          'latitude': station['location']['lat'], 'longitude': station['location']['lng']})\n",
    "    dict_subway_data[name] = list_data"
   ]
  },
  {
   "cell_type": "code",
   "execution_count": 65,
   "metadata": {},
   "outputs": [],
   "source": [
    "for line in dict_subway_data:\n",
    "    dict_subway_data[line] = pd.DataFrame(dict_subway_data[line])"
   ]
  },
  {
   "cell_type": "code",
   "execution_count": 69,
   "metadata": {},
   "outputs": [
    {
     "data": {
      "text/plain": [
       "['Tokyo Metro Ginza Line',\n",
       " 'Tokyo Metro Marunouchi Line',\n",
       " 'Tokyo Metro Hibiya Line',\n",
       " 'Tokyo Metro Tozai Line',\n",
       " 'Tokyo Metro Chiyoda Line',\n",
       " 'Tokyo Metro Yurakucho Line',\n",
       " 'Tokyo Metro Hanzomon Line',\n",
       " 'Tokyo Metro Namboku Line',\n",
       " 'Tokyo Metro Fukutoshin Line',\n",
       " 'Toei Oedo Line',\n",
       " 'Toei Asakusa Line',\n",
       " 'Toei Mita Line',\n",
       " 'Toei Shinjuku Line']"
      ]
     },
     "execution_count": 69,
     "metadata": {},
     "output_type": "execute_result"
    }
   ],
   "source": [
    "list(dict_subway_data.keys())"
   ]
  },
  {
   "cell_type": "code",
   "execution_count": 71,
   "metadata": {},
   "outputs": [
    {
     "data": {
      "text/html": [
       "<div>\n",
       "<style>\n",
       "    .dataframe thead tr:only-child th {\n",
       "        text-align: right;\n",
       "    }\n",
       "\n",
       "    .dataframe thead th {\n",
       "        text-align: left;\n",
       "    }\n",
       "\n",
       "    .dataframe tbody tr th {\n",
       "        vertical-align: top;\n",
       "    }\n",
       "</style>\n",
       "<table border=\"1\" class=\"dataframe\">\n",
       "  <thead>\n",
       "    <tr style=\"text-align: right;\">\n",
       "      <th></th>\n",
       "      <th>id</th>\n",
       "      <th>latitude</th>\n",
       "      <th>longitude</th>\n",
       "      <th>name</th>\n",
       "    </tr>\n",
       "  </thead>\n",
       "  <tbody>\n",
       "    <tr>\n",
       "      <th>0</th>\n",
       "      <td>2800101</td>\n",
       "      <td>35.710733</td>\n",
       "      <td>139.797592</td>\n",
       "      <td>Asakusa</td>\n",
       "    </tr>\n",
       "    <tr>\n",
       "      <th>1</th>\n",
       "      <td>2800102</td>\n",
       "      <td>35.709897</td>\n",
       "      <td>139.790897</td>\n",
       "      <td>Tahara-cho</td>\n",
       "    </tr>\n",
       "    <tr>\n",
       "      <th>2</th>\n",
       "      <td>2800103</td>\n",
       "      <td>35.711273</td>\n",
       "      <td>139.782593</td>\n",
       "      <td>Inaricho</td>\n",
       "    </tr>\n",
       "    <tr>\n",
       "      <th>3</th>\n",
       "      <td>2800104</td>\n",
       "      <td>35.711482</td>\n",
       "      <td>139.777122</td>\n",
       "      <td>Ueno</td>\n",
       "    </tr>\n",
       "    <tr>\n",
       "      <th>4</th>\n",
       "      <td>2800105</td>\n",
       "      <td>35.707680</td>\n",
       "      <td>139.772877</td>\n",
       "      <td>Ueno Hirokoji</td>\n",
       "    </tr>\n",
       "    <tr>\n",
       "      <th>5</th>\n",
       "      <td>2800106</td>\n",
       "      <td>35.702972</td>\n",
       "      <td>139.771713</td>\n",
       "      <td>Suehiro cho</td>\n",
       "    </tr>\n",
       "    <tr>\n",
       "      <th>6</th>\n",
       "      <td>2800107</td>\n",
       "      <td>35.693587</td>\n",
       "      <td>139.770899</td>\n",
       "      <td>Kanda</td>\n",
       "    </tr>\n",
       "    <tr>\n",
       "      <th>7</th>\n",
       "      <td>2800108</td>\n",
       "      <td>35.687101</td>\n",
       "      <td>139.773594</td>\n",
       "      <td>Before Mitsukoshi</td>\n",
       "    </tr>\n",
       "    <tr>\n",
       "      <th>8</th>\n",
       "      <td>2800109</td>\n",
       "      <td>35.682078</td>\n",
       "      <td>139.773516</td>\n",
       "      <td>Nihonbashi</td>\n",
       "    </tr>\n",
       "    <tr>\n",
       "      <th>9</th>\n",
       "      <td>2800110</td>\n",
       "      <td>35.676856</td>\n",
       "      <td>139.770126</td>\n",
       "      <td>Kyobashi</td>\n",
       "    </tr>\n",
       "    <tr>\n",
       "      <th>10</th>\n",
       "      <td>2800111</td>\n",
       "      <td>35.671989</td>\n",
       "      <td>139.763965</td>\n",
       "      <td>Ginza</td>\n",
       "    </tr>\n",
       "    <tr>\n",
       "      <th>11</th>\n",
       "      <td>2800112</td>\n",
       "      <td>35.667434</td>\n",
       "      <td>139.758432</td>\n",
       "      <td>Shimbashi</td>\n",
       "    </tr>\n",
       "    <tr>\n",
       "      <th>12</th>\n",
       "      <td>2800113</td>\n",
       "      <td>35.670236</td>\n",
       "      <td>139.749832</td>\n",
       "      <td>Toranomon</td>\n",
       "    </tr>\n",
       "    <tr>\n",
       "      <th>13</th>\n",
       "      <td>2800114</td>\n",
       "      <td>35.673621</td>\n",
       "      <td>139.741419</td>\n",
       "      <td>Tameike San</td>\n",
       "    </tr>\n",
       "    <tr>\n",
       "      <th>14</th>\n",
       "      <td>2800115</td>\n",
       "      <td>35.677021</td>\n",
       "      <td>139.737047</td>\n",
       "      <td>Akasaka Mitsuke</td>\n",
       "    </tr>\n",
       "    <tr>\n",
       "      <th>15</th>\n",
       "      <td>2800116</td>\n",
       "      <td>35.672765</td>\n",
       "      <td>139.724159</td>\n",
       "      <td>Aoyama 1-chome</td>\n",
       "    </tr>\n",
       "    <tr>\n",
       "      <th>16</th>\n",
       "      <td>2800117</td>\n",
       "      <td>35.670527</td>\n",
       "      <td>139.717857</td>\n",
       "      <td>Gaienmae front</td>\n",
       "    </tr>\n",
       "    <tr>\n",
       "      <th>17</th>\n",
       "      <td>2800118</td>\n",
       "      <td>35.665247</td>\n",
       "      <td>139.712314</td>\n",
       "      <td>Omotesando</td>\n",
       "    </tr>\n",
       "    <tr>\n",
       "      <th>18</th>\n",
       "      <td>2800119</td>\n",
       "      <td>35.659066</td>\n",
       "      <td>139.701000</td>\n",
       "      <td>Shibuya</td>\n",
       "    </tr>\n",
       "  </tbody>\n",
       "</table>\n",
       "</div>"
      ],
      "text/plain": [
       "         id   latitude   longitude               name\n",
       "0   2800101  35.710733  139.797592            Asakusa\n",
       "1   2800102  35.709897  139.790897         Tahara-cho\n",
       "2   2800103  35.711273  139.782593           Inaricho\n",
       "3   2800104  35.711482  139.777122               Ueno\n",
       "4   2800105  35.707680  139.772877      Ueno Hirokoji\n",
       "5   2800106  35.702972  139.771713        Suehiro cho\n",
       "6   2800107  35.693587  139.770899              Kanda\n",
       "7   2800108  35.687101  139.773594  Before Mitsukoshi\n",
       "8   2800109  35.682078  139.773516         Nihonbashi\n",
       "9   2800110  35.676856  139.770126           Kyobashi\n",
       "10  2800111  35.671989  139.763965              Ginza\n",
       "11  2800112  35.667434  139.758432          Shimbashi\n",
       "12  2800113  35.670236  139.749832          Toranomon\n",
       "13  2800114  35.673621  139.741419        Tameike San\n",
       "14  2800115  35.677021  139.737047    Akasaka Mitsuke\n",
       "15  2800116  35.672765  139.724159     Aoyama 1-chome\n",
       "16  2800117  35.670527  139.717857     Gaienmae front\n",
       "17  2800118  35.665247  139.712314         Omotesando\n",
       "18  2800119  35.659066  139.701000            Shibuya"
      ]
     },
     "execution_count": 71,
     "metadata": {},
     "output_type": "execute_result"
    }
   ],
   "source": [
    "dict_subway_data['Tokyo Metro Ginza Line']"
   ]
  },
  {
   "cell_type": "code",
   "execution_count": null,
   "metadata": {
    "collapsed": true
   },
   "outputs": [],
   "source": []
  }
 ],
 "metadata": {
  "kernelspec": {
   "display_name": "Python 3",
   "language": "python",
   "name": "python3"
  },
  "language_info": {
   "codemirror_mode": {
    "name": "ipython",
    "version": 3
   },
   "file_extension": ".py",
   "mimetype": "text/x-python",
   "name": "python",
   "nbconvert_exporter": "python",
   "pygments_lexer": "ipython3",
   "version": "3.6.3"
  }
 },
 "nbformat": 4,
 "nbformat_minor": 2
}
