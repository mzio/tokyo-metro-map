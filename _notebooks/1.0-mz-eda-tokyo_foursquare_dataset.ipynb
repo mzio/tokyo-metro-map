{
 "cells": [
  {
   "cell_type": "markdown",
   "metadata": {},
   "source": [
    "# Tokyo Foursquare Dataset EDA  \n",
    "\n",
    "Foursquare check-ins in Tokyo from around 2012 - 2013. Goal is to come up with a visualization for subway / metro travel in this time."
   ]
  },
  {
   "cell_type": "code",
   "execution_count": 3,
   "metadata": {
    "collapsed": true
   },
   "outputs": [],
   "source": [
    "import pandas as pd\n",
    "import numpy as np"
   ]
  },
  {
   "cell_type": "code",
   "execution_count": 103,
   "metadata": {
    "collapsed": true
   },
   "outputs": [],
   "source": [
    "import json"
   ]
  },
  {
   "cell_type": "code",
   "execution_count": 4,
   "metadata": {
    "collapsed": true
   },
   "outputs": [],
   "source": [
    "df_tokyo = pd.read_csv('../_data/foursquare-nyc-and-tokyo-check-ins/dataset_TSMC2014_TKY.csv')"
   ]
  },
  {
   "cell_type": "code",
   "execution_count": 5,
   "metadata": {
    "collapsed": true
   },
   "outputs": [],
   "source": [
    "df_trains = df_tokyo[df_tokyo['venueCategory'] == 'Train Station']"
   ]
  },
  {
   "cell_type": "code",
   "execution_count": 6,
   "metadata": {
    "collapsed": true
   },
   "outputs": [],
   "source": [
    "df_subway = df_tokyo[df_tokyo['venueCategory'] == 'Subway']"
   ]
  },
  {
   "cell_type": "code",
   "execution_count": 7,
   "metadata": {},
   "outputs": [
    {
     "data": {
      "text/html": [
       "<div>\n",
       "<style>\n",
       "    .dataframe thead tr:only-child th {\n",
       "        text-align: right;\n",
       "    }\n",
       "\n",
       "    .dataframe thead th {\n",
       "        text-align: left;\n",
       "    }\n",
       "\n",
       "    .dataframe tbody tr th {\n",
       "        vertical-align: top;\n",
       "    }\n",
       "</style>\n",
       "<table border=\"1\" class=\"dataframe\">\n",
       "  <thead>\n",
       "    <tr style=\"text-align: right;\">\n",
       "      <th></th>\n",
       "      <th>userId</th>\n",
       "      <th>venueId</th>\n",
       "      <th>venueCategoryId</th>\n",
       "      <th>venueCategory</th>\n",
       "      <th>latitude</th>\n",
       "      <th>longitude</th>\n",
       "      <th>timezoneOffset</th>\n",
       "      <th>utcTimestamp</th>\n",
       "    </tr>\n",
       "  </thead>\n",
       "  <tbody>\n",
       "    <tr>\n",
       "      <th>7</th>\n",
       "      <td>114</td>\n",
       "      <td>4b3eae5cf964a520b4a025e3</td>\n",
       "      <td>4bf58dd8d48988d129951735</td>\n",
       "      <td>Train Station</td>\n",
       "      <td>35.700253</td>\n",
       "      <td>139.480255</td>\n",
       "      <td>540</td>\n",
       "      <td>Tue Apr 03 19:35:36 +0000 2012</td>\n",
       "    </tr>\n",
       "    <tr>\n",
       "      <th>15</th>\n",
       "      <td>2290</td>\n",
       "      <td>4b53b05ef964a520e8a727e3</td>\n",
       "      <td>4bf58dd8d48988d129951735</td>\n",
       "      <td>Train Station</td>\n",
       "      <td>35.749538</td>\n",
       "      <td>139.586540</td>\n",
       "      <td>540</td>\n",
       "      <td>Tue Apr 03 20:14:18 +0000 2012</td>\n",
       "    </tr>\n",
       "  </tbody>\n",
       "</table>\n",
       "</div>"
      ],
      "text/plain": [
       "    userId                   venueId           venueCategoryId  venueCategory  \\\n",
       "7      114  4b3eae5cf964a520b4a025e3  4bf58dd8d48988d129951735  Train Station   \n",
       "15    2290  4b53b05ef964a520e8a727e3  4bf58dd8d48988d129951735  Train Station   \n",
       "\n",
       "     latitude   longitude  timezoneOffset                    utcTimestamp  \n",
       "7   35.700253  139.480255             540  Tue Apr 03 19:35:36 +0000 2012  \n",
       "15  35.749538  139.586540             540  Tue Apr 03 20:14:18 +0000 2012  "
      ]
     },
     "execution_count": 7,
     "metadata": {},
     "output_type": "execute_result"
    }
   ],
   "source": [
    "df_trains.head(2)"
   ]
  },
  {
   "cell_type": "markdown",
   "metadata": {},
   "source": [
    "### Convert utc to regular time"
   ]
  },
  {
   "cell_type": "code",
   "execution_count": 8,
   "metadata": {
    "collapsed": true
   },
   "outputs": [],
   "source": [
    "timezone_offset = pd.to_timedelta('6 hours')\n",
    "\n",
    "def convert_time(row):\n",
    "    return pd.to_datetime(row['utcTimestamp']) + timezone_offset"
   ]
  },
  {
   "cell_type": "code",
   "execution_count": 9,
   "metadata": {},
   "outputs": [
    {
     "name": "stderr",
     "output_type": "stream",
     "text": [
      "/Users/michael/anaconda3/lib/python3.6/site-packages/ipykernel_launcher.py:1: SettingWithCopyWarning: \n",
      "A value is trying to be set on a copy of a slice from a DataFrame.\n",
      "Try using .loc[row_indexer,col_indexer] = value instead\n",
      "\n",
      "See the caveats in the documentation: http://pandas.pydata.org/pandas-docs/stable/indexing.html#indexing-view-versus-copy\n",
      "  \"\"\"Entry point for launching an IPython kernel.\n"
     ]
    }
   ],
   "source": [
    "df_trains['localTimestamp'] = df_trains.apply(convert_time, axis=1)"
   ]
  },
  {
   "cell_type": "code",
   "execution_count": 10,
   "metadata": {},
   "outputs": [
    {
     "name": "stderr",
     "output_type": "stream",
     "text": [
      "/Users/michael/anaconda3/lib/python3.6/site-packages/ipykernel_launcher.py:1: SettingWithCopyWarning: \n",
      "A value is trying to be set on a copy of a slice from a DataFrame.\n",
      "Try using .loc[row_indexer,col_indexer] = value instead\n",
      "\n",
      "See the caveats in the documentation: http://pandas.pydata.org/pandas-docs/stable/indexing.html#indexing-view-versus-copy\n",
      "  \"\"\"Entry point for launching an IPython kernel.\n"
     ]
    }
   ],
   "source": [
    "df_subway['localTimestamp'] = df_subway.apply(convert_time, axis=1)"
   ]
  },
  {
   "cell_type": "code",
   "execution_count": 69,
   "metadata": {},
   "outputs": [
    {
     "data": {
      "text/plain": [
       "0   2012-04-04 01:35:36\n",
       "Name: localTimestamp, dtype: datetime64[ns]"
      ]
     },
     "execution_count": 69,
     "metadata": {},
     "output_type": "execute_result"
    }
   ],
   "source": [
    "df_trains[0:1].reset_index()"
   ]
  },
  {
   "cell_type": "markdown",
   "metadata": {},
   "source": [
    "## Function to convert to geojson"
   ]
  },
  {
   "cell_type": "code",
   "execution_count": 11,
   "metadata": {
    "collapsed": true
   },
   "outputs": [],
   "source": [
    "def row_to_geojson_full(row, json_list=[]):\n",
    "    headers = row.columns\n",
    "    properties = {}\n",
    "    for h in headers:\n",
    "        properties[h] = row[h].values[0]\n",
    "    dict = {\"type\": \"Feature\",\n",
    "            \"geometry\": {\n",
    "                \"type\": \"Point\",\n",
    "                \"coordinates\": [row['longitude'].values[0], row['latitude'].values[0]]\n",
    "            },\n",
    "            \"properties\": properties}\n",
    "    json_list.append(dict)"
   ]
  },
  {
   "cell_type": "code",
   "execution_count": 12,
   "metadata": {
    "collapsed": true
   },
   "outputs": [],
   "source": [
    "def row_to_geojson(row, json_list=[]):\n",
    "#     print(row)\n",
    "#     dict = {\"type\": \"Feature\",\n",
    "#             \"geometry\": {\n",
    "#                 \"type\": \"Point\",\n",
    "#                 \"coordinates\": [row['longitude'].values[0], row['latitude'].values[0]]\n",
    "#             },\n",
    "#             \"properties\": {\n",
    "#                 \"localTimestamp\": row['localTimestamp'].values[0]\n",
    "#             }}\n",
    "    dict = {\"type\": \"Feature\",\n",
    "            \"geometry\": {\n",
    "                \"type\": \"Point\",\n",
    "                \"coordinates\": [row['longitude'], row['latitude']]\n",
    "            },\n",
    "            \"properties\": {\n",
    "                \"localTimestamp\": row['localTimestamp']\n",
    "            }}\n",
    "    json_list.append(dict)"
   ]
  },
  {
   "cell_type": "code",
   "execution_count": 13,
   "metadata": {
    "collapsed": true
   },
   "outputs": [],
   "source": [
    "# json.dumps(dict, default=timestamp_to_json)\n",
    "def timestamp_to_json(obj):\n",
    "    if isinstance(obj, pd.datetime):\n",
    "        return obj.__str__()"
   ]
  },
  {
   "cell_type": "markdown",
   "metadata": {},
   "source": [
    "### Test Subway JSON collection"
   ]
  },
  {
   "cell_type": "code",
   "execution_count": 15,
   "metadata": {},
   "outputs": [
    {
     "data": {
      "text/plain": [
       "32     None\n",
       "34     None\n",
       "54     None\n",
       "65     None\n",
       "75     None\n",
       "92     None\n",
       "93     None\n",
       "105    None\n",
       "108    None\n",
       "125    None\n",
       "dtype: object"
      ]
     },
     "execution_count": 15,
     "metadata": {},
     "output_type": "execute_result"
    }
   ],
   "source": [
    "list_json_subways = []\n",
    "df_subway[:10].apply(lambda x: row_to_geojson(x, json_list=list_json_subways), axis=1)"
   ]
  },
  {
   "cell_type": "code",
   "execution_count": 16,
   "metadata": {
    "collapsed": true
   },
   "outputs": [
    {
     "data": {
      "text/plain": [
       "[{'geometry': {'coordinates': [139.7195989, 35.74880451], 'type': 'Point'},\n",
       "  'properties': {'localTimestamp': Timestamp('2012-04-04 02:59:52')},\n",
       "  'type': 'Feature'},\n",
       " {'geometry': {'coordinates': [139.798767, 35.68220662], 'type': 'Point'},\n",
       "  'properties': {'localTimestamp': Timestamp('2012-04-04 03:04:04')},\n",
       "  'type': 'Feature'},\n",
       " {'geometry': {'coordinates': [139.633677, 35.55002896], 'type': 'Point'},\n",
       "  'properties': {'localTimestamp': Timestamp('2012-04-04 03:39:12')},\n",
       "  'type': 'Feature'},\n",
       " {'geometry': {'coordinates': [139.7113779, 35.73027306], 'type': 'Point'},\n",
       "  'properties': {'localTimestamp': Timestamp('2012-04-04 03:52:17')},\n",
       "  'type': 'Feature'},\n",
       " {'geometry': {'coordinates': [139.7106913, 35.68859747], 'type': 'Point'},\n",
       "  'properties': {'localTimestamp': Timestamp('2012-04-04 03:56:43')},\n",
       "  'type': 'Feature'},\n",
       " {'geometry': {'coordinates': [139.8175974, 35.66959007], 'type': 'Point'},\n",
       "  'properties': {'localTimestamp': Timestamp('2012-04-04 04:06:34')},\n",
       "  'type': 'Feature'},\n",
       " {'geometry': {'coordinates': [139.8593742, 35.66458473], 'type': 'Point'},\n",
       "  'properties': {'localTimestamp': Timestamp('2012-04-04 04:06:57')},\n",
       "  'type': 'Feature'},\n",
       " {'geometry': {'coordinates': [139.7634637, 35.67567472], 'type': 'Point'},\n",
       "  'properties': {'localTimestamp': Timestamp('2012-04-04 04:12:01')},\n",
       "  'type': 'Feature'},\n",
       " {'geometry': {'coordinates': [139.7136497, 35.60542847], 'type': 'Point'},\n",
       "  'properties': {'localTimestamp': Timestamp('2012-04-04 04:13:27')},\n",
       "  'type': 'Feature'},\n",
       " {'geometry': {'coordinates': [139.7512382, 35.69604865], 'type': 'Point'},\n",
       "  'properties': {'localTimestamp': Timestamp('2012-04-04 04:21:13')},\n",
       "  'type': 'Feature'}]"
      ]
     },
     "execution_count": 16,
     "metadata": {},
     "output_type": "execute_result"
    }
   ],
   "source": [
    "list_json_subways"
   ]
  },
  {
   "cell_type": "markdown",
   "metadata": {},
   "source": [
    "## Reduce coordinate noise\n",
    "\n",
    "Basically try to map check-ins to a reasonable number. Check-ins might be referring to the same station, but slightly off in GPS coordinates, so experiment with how precise the geocoordinates should be. Assuming there are about 140 stations to work with."
   ]
  },
  {
   "cell_type": "code",
   "execution_count": 17,
   "metadata": {},
   "outputs": [
    {
     "data": {
      "text/plain": [
       "136"
      ]
     },
     "execution_count": 17,
     "metadata": {},
     "output_type": "execute_result"
    }
   ],
   "source": [
    "len(df_subway['latitude'].apply(lambda x: np.round_(x, decimals=3)).value_counts())"
   ]
  },
  {
   "cell_type": "code",
   "execution_count": 18,
   "metadata": {},
   "outputs": [
    {
     "data": {
      "text/plain": [
       "164"
      ]
     },
     "execution_count": 18,
     "metadata": {},
     "output_type": "execute_result"
    }
   ],
   "source": [
    "len(df_subway['longitude'].apply(lambda x: np.round_(x, decimals=3)).value_counts())"
   ]
  },
  {
   "cell_type": "code",
   "execution_count": 23,
   "metadata": {},
   "outputs": [
    {
     "name": "stderr",
     "output_type": "stream",
     "text": [
      "/Users/michael/anaconda3/lib/python3.6/site-packages/ipykernel_launcher.py:2: SettingWithCopyWarning: \n",
      "A value is trying to be set on a copy of a slice from a DataFrame.\n",
      "Try using .loc[row_indexer,col_indexer] = value instead\n",
      "\n",
      "See the caveats in the documentation: http://pandas.pydata.org/pandas-docs/stable/indexing.html#indexing-view-versus-copy\n",
      "  \n",
      "/Users/michael/anaconda3/lib/python3.6/site-packages/ipykernel_launcher.py:3: SettingWithCopyWarning: \n",
      "A value is trying to be set on a copy of a slice from a DataFrame.\n",
      "Try using .loc[row_indexer,col_indexer] = value instead\n",
      "\n",
      "See the caveats in the documentation: http://pandas.pydata.org/pandas-docs/stable/indexing.html#indexing-view-versus-copy\n",
      "  This is separate from the ipykernel package so we can avoid doing imports until\n"
     ]
    },
    {
     "data": {
      "text/plain": [
       "292"
      ]
     },
     "execution_count": 23,
     "metadata": {},
     "output_type": "execute_result"
    }
   ],
   "source": [
    "df_subway_small = df_subway[['venueId', 'latitude', 'longitude', 'localTimestamp']]\n",
    "df_subway_small['latitude'] = df_subway_small['latitude'].apply(lambda x: np.round_(x, decimals=3))\n",
    "df_subway_small['longitude'] = df_subway_small['longitude'].apply(lambda x: np.round_(x, decimals=2))\n",
    "len((df_subway_small['latitude'].map(str) + \":\" + df_subway_small['longitude'].map(str)).unique())"
   ]
  },
  {
   "cell_type": "code",
   "execution_count": 290,
   "metadata": {},
   "outputs": [
    {
     "data": {
      "text/plain": [
       "Timedelta('0 days 03:17:35.704839')"
      ]
     },
     "execution_count": 290,
     "metadata": {},
     "output_type": "execute_result"
    }
   ],
   "source": [
    "df_subway_small['localTimestamp'].diff().std()"
   ]
  },
  {
   "cell_type": "markdown",
   "metadata": {},
   "source": [
    "### Save CSV"
   ]
  },
  {
   "cell_type": "code",
   "execution_count": 25,
   "metadata": {
    "collapsed": true
   },
   "outputs": [],
   "source": [
    "df_subway_small.to_csv('../_data/df_subway_station_checkins')"
   ]
  },
  {
   "cell_type": "markdown",
   "metadata": {},
   "source": [
    "## Extra stuff (ignorable):"
   ]
  },
  {
   "cell_type": "markdown",
   "metadata": {},
   "source": [
    "### Find average time difference\n",
    "\n",
    "Want to calculate the average time difference between check-ins, accounting for outliers"
   ]
  },
  {
   "cell_type": "code",
   "execution_count": 298,
   "metadata": {
    "collapsed": true
   },
   "outputs": [],
   "source": [
    "df_timedeltas_subway = df_subway_small['localTimestamp'].diff()[1:]"
   ]
  },
  {
   "cell_type": "code",
   "execution_count": 305,
   "metadata": {},
   "outputs": [
    {
     "data": {
      "text/plain": [
       "Timedelta('0 days 03:17:35.704839')"
      ]
     },
     "execution_count": 305,
     "metadata": {},
     "output_type": "execute_result"
    }
   ],
   "source": [
    "df_timedeltas_subway.std()"
   ]
  },
  {
   "cell_type": "code",
   "execution_count": 319,
   "metadata": {},
   "outputs": [
    {
     "data": {
      "text/plain": [
       "Timedelta('0 days 00:04:39.152909')"
      ]
     },
     "execution_count": 319,
     "metadata": {},
     "output_type": "execute_result"
    }
   ],
   "source": [
    "df_timedeltas_subway[df_timedeltas_subway <= df_timedeltas_subway.std()].mean()"
   ]
  },
  {
   "cell_type": "code",
   "execution_count": 274,
   "metadata": {},
   "outputs": [
    {
     "data": {
      "text/plain": [
       "431"
      ]
     },
     "execution_count": 274,
     "metadata": {},
     "output_type": "execute_result"
    }
   ],
   "source": [
    "len(df_subway_small['venueId'].unique())"
   ]
  },
  {
   "cell_type": "code",
   "execution_count": 258,
   "metadata": {},
   "outputs": [
    {
     "data": {
      "text/plain": [
       "{'geometry': {'coordinates': [139.72, 35.75], 'type': 'Point'},\n",
       " 'properties': {'latitude': 35.75,\n",
       "  'localTimestamp': numpy.datetime64('2012-04-04T02:59:52.000000000'),\n",
       "  'longitude': 139.72},\n",
       " 'type': 'Feature'}"
      ]
     },
     "execution_count": 258,
     "metadata": {},
     "output_type": "execute_result"
    }
   ],
   "source": [
    "row_to_geojson_full(df_subway_small[0:1])"
   ]
  },
  {
   "cell_type": "code",
   "execution_count": 321,
   "metadata": {
    "scrolled": true
   },
   "outputs": [
    {
     "data": {
      "text/plain": [
       "32     None\n",
       "34     None\n",
       "54     None\n",
       "65     None\n",
       "75     None\n",
       "92     None\n",
       "93     None\n",
       "105    None\n",
       "108    None\n",
       "125    None\n",
       "126    None\n",
       "130    None\n",
       "138    None\n",
       "155    None\n",
       "156    None\n",
       "166    None\n",
       "181    None\n",
       "190    None\n",
       "191    None\n",
       "192    None\n",
       "217    None\n",
       "224    None\n",
       "235    None\n",
       "236    None\n",
       "237    None\n",
       "239    None\n",
       "240    None\n",
       "242    None\n",
       "251    None\n",
       "254    None\n",
       "       ... \n",
       "489    None\n",
       "493    None\n",
       "494    None\n",
       "498    None\n",
       "500    None\n",
       "505    None\n",
       "517    None\n",
       "532    None\n",
       "536    None\n",
       "538    None\n",
       "539    None\n",
       "552    None\n",
       "555    None\n",
       "560    None\n",
       "566    None\n",
       "578    None\n",
       "580    None\n",
       "599    None\n",
       "603    None\n",
       "607    None\n",
       "608    None\n",
       "619    None\n",
       "642    None\n",
       "643    None\n",
       "645    None\n",
       "648    None\n",
       "659    None\n",
       "663    None\n",
       "665    None\n",
       "669    None\n",
       "Length: 100, dtype: object"
      ]
     },
     "execution_count": 321,
     "metadata": {},
     "output_type": "execute_result"
    }
   ],
   "source": [
    "json_list = []\n",
    "df_subway_small[:100].apply(lambda x: row_to_geojson(x, json_list=json_list), axis=1)"
   ]
  },
  {
   "cell_type": "code",
   "execution_count": 322,
   "metadata": {},
   "outputs": [
    {
     "data": {
      "text/plain": [
       "'[{\"type\": \"Feature\", \"geometry\": {\"type\": \"Point\", \"coordinates\": [139.72, 35.75]}, \"properties\": {\"localTimestamp\": \"2012-04-04 02:59:52\"}}, {\"type\": \"Feature\", \"geometry\": {\"type\": \"Point\", \"coordinates\": [139.8, 35.68]}, \"properties\": {\"localTimestamp\": \"2012-04-04 03:04:04\"}}, {\"type\": \"Feature\", \"geometry\": {\"type\": \"Point\", \"coordinates\": [139.63, 35.55]}, \"properties\": {\"localTimestamp\": \"2012-04-04 03:39:12\"}}, {\"type\": \"Feature\", \"geometry\": {\"type\": \"Point\", \"coordinates\": [139.71, 35.73]}, \"properties\": {\"localTimestamp\": \"2012-04-04 03:52:17\"}}, {\"type\": \"Feature\", \"geometry\": {\"type\": \"Point\", \"coordinates\": [139.71, 35.69]}, \"properties\": {\"localTimestamp\": \"2012-04-04 03:56:43\"}}, {\"type\": \"Feature\", \"geometry\": {\"type\": \"Point\", \"coordinates\": [139.82, 35.67]}, \"properties\": {\"localTimestamp\": \"2012-04-04 04:06:34\"}}, {\"type\": \"Feature\", \"geometry\": {\"type\": \"Point\", \"coordinates\": [139.86, 35.66]}, \"properties\": {\"localTimestamp\": \"2012-04-04 04:06:57\"}}, {\"type\": \"Feature\", \"geometry\": {\"type\": \"Point\", \"coordinates\": [139.76, 35.68]}, \"properties\": {\"localTimestamp\": \"2012-04-04 04:12:01\"}}, {\"type\": \"Feature\", \"geometry\": {\"type\": \"Point\", \"coordinates\": [139.71, 35.61]}, \"properties\": {\"localTimestamp\": \"2012-04-04 04:13:27\"}}, {\"type\": \"Feature\", \"geometry\": {\"type\": \"Point\", \"coordinates\": [139.75, 35.7]}, \"properties\": {\"localTimestamp\": \"2012-04-04 04:21:13\"}}, {\"type\": \"Feature\", \"geometry\": {\"type\": \"Point\", \"coordinates\": [139.77, 35.68]}, \"properties\": {\"localTimestamp\": \"2012-04-04 04:21:30\"}}, {\"type\": \"Feature\", \"geometry\": {\"type\": \"Point\", \"coordinates\": [139.65, 35.79]}, \"properties\": {\"localTimestamp\": \"2012-04-04 04:23:00\"}}, {\"type\": \"Feature\", \"geometry\": {\"type\": \"Point\", \"coordinates\": [139.73, 35.73]}, \"properties\": {\"localTimestamp\": \"2012-04-04 04:25:09\"}}, {\"type\": \"Feature\", \"geometry\": {\"type\": \"Point\", \"coordinates\": [139.75, 35.65]}, \"properties\": {\"localTimestamp\": \"2012-04-04 04:29:34\"}}, {\"type\": \"Feature\", \"geometry\": {\"type\": \"Point\", \"coordinates\": [139.87, 35.66]}, \"properties\": {\"localTimestamp\": \"2012-04-04 04:29:46\"}}, {\"type\": \"Feature\", \"geometry\": {\"type\": \"Point\", \"coordinates\": [139.8, 35.68]}, \"properties\": {\"localTimestamp\": \"2012-04-04 04:32:03\"}}, {\"type\": \"Feature\", \"geometry\": {\"type\": \"Point\", \"coordinates\": [139.76, 35.7]}, \"properties\": {\"localTimestamp\": \"2012-04-04 04:35:47\"}}, {\"type\": \"Feature\", \"geometry\": {\"type\": \"Point\", \"coordinates\": [139.78, 35.7]}, \"properties\": {\"localTimestamp\": \"2012-04-04 04:37:25\"}}, {\"type\": \"Feature\", \"geometry\": {\"type\": \"Point\", \"coordinates\": [139.76, 35.69]}, \"properties\": {\"localTimestamp\": \"2012-04-04 04:37:30\"}}, {\"type\": \"Feature\", \"geometry\": {\"type\": \"Point\", \"coordinates\": [139.65, 35.7]}, \"properties\": {\"localTimestamp\": \"2012-04-04 04:37:35\"}}, {\"type\": \"Feature\", \"geometry\": {\"type\": \"Point\", \"coordinates\": [139.71, 35.69]}, \"properties\": {\"localTimestamp\": \"2012-04-04 04:44:43\"}}, {\"type\": \"Feature\", \"geometry\": {\"type\": \"Point\", \"coordinates\": [139.72, 35.73]}, \"properties\": {\"localTimestamp\": \"2012-04-04 04:45:17\"}}, {\"type\": \"Feature\", \"geometry\": {\"type\": \"Point\", \"coordinates\": [139.72, 35.67]}, \"properties\": {\"localTimestamp\": \"2012-04-04 04:47:11\"}}, {\"type\": \"Feature\", \"geometry\": {\"type\": \"Point\", \"coordinates\": [139.71, 35.68]}, \"properties\": {\"localTimestamp\": \"2012-04-04 04:47:13\"}}, {\"type\": \"Feature\", \"geometry\": {\"type\": \"Point\", \"coordinates\": [139.74, 35.68]}, \"properties\": {\"localTimestamp\": \"2012-04-04 04:47:13\"}}, {\"type\": \"Feature\", \"geometry\": {\"type\": \"Point\", \"coordinates\": [139.68, 35.7]}, \"properties\": {\"localTimestamp\": \"2012-04-04 04:47:19\"}}, {\"type\": \"Feature\", \"geometry\": {\"type\": \"Point\", \"coordinates\": [139.75, 35.65]}, \"properties\": {\"localTimestamp\": \"2012-04-04 04:47:28\"}}, {\"type\": \"Feature\", \"geometry\": {\"type\": \"Point\", \"coordinates\": [139.7, 35.67]}, \"properties\": {\"localTimestamp\": \"2012-04-04 04:49:17\"}}, {\"type\": \"Feature\", \"geometry\": {\"type\": \"Point\", \"coordinates\": [139.79, 35.67]}, \"properties\": {\"localTimestamp\": \"2012-04-04 04:51:06\"}}, {\"type\": \"Feature\", \"geometry\": {\"type\": \"Point\", \"coordinates\": [139.65, 35.79]}, \"properties\": {\"localTimestamp\": \"2012-04-04 04:51:43\"}}, {\"type\": \"Feature\", \"geometry\": {\"type\": \"Point\", \"coordinates\": [139.8, 35.67]}, \"properties\": {\"localTimestamp\": \"2012-04-04 04:51:59\"}}, {\"type\": \"Feature\", \"geometry\": {\"type\": \"Point\", \"coordinates\": [139.72, 35.73]}, \"properties\": {\"localTimestamp\": \"2012-04-04 04:53:07\"}}, {\"type\": \"Feature\", \"geometry\": {\"type\": \"Point\", \"coordinates\": [139.7, 35.66]}, \"properties\": {\"localTimestamp\": \"2012-04-04 04:53:54\"}}, {\"type\": \"Feature\", \"geometry\": {\"type\": \"Point\", \"coordinates\": [139.79, 35.73]}, \"properties\": {\"localTimestamp\": \"2012-04-04 04:54:46\"}}, {\"type\": \"Feature\", \"geometry\": {\"type\": \"Point\", \"coordinates\": [139.77, 35.68]}, \"properties\": {\"localTimestamp\": \"2012-04-04 04:59:31\"}}, {\"type\": \"Feature\", \"geometry\": {\"type\": \"Point\", \"coordinates\": [139.78, 35.7]}, \"properties\": {\"localTimestamp\": \"2012-04-04 05:00:09\"}}, {\"type\": \"Feature\", \"geometry\": {\"type\": \"Point\", \"coordinates\": [139.77, 35.68]}, \"properties\": {\"localTimestamp\": \"2012-04-04 05:00:18\"}}, {\"type\": \"Feature\", \"geometry\": {\"type\": \"Point\", \"coordinates\": [139.9, 35.67]}, \"properties\": {\"localTimestamp\": \"2012-04-04 05:01:02\"}}, {\"type\": \"Feature\", \"geometry\": {\"type\": \"Point\", \"coordinates\": [139.78, 35.66]}, \"properties\": {\"localTimestamp\": \"2012-04-04 05:02:11\"}}, {\"type\": \"Feature\", \"geometry\": {\"type\": \"Point\", \"coordinates\": [139.8, 35.71]}, \"properties\": {\"localTimestamp\": \"2012-04-04 05:03:18\"}}, {\"type\": \"Feature\", \"geometry\": {\"type\": \"Point\", \"coordinates\": [139.74, 35.64]}, \"properties\": {\"localTimestamp\": \"2012-04-04 05:05:50\"}}, {\"type\": \"Feature\", \"geometry\": {\"type\": \"Point\", \"coordinates\": [139.77, 35.7]}, \"properties\": {\"localTimestamp\": \"2012-04-04 05:06:40\"}}, {\"type\": \"Feature\", \"geometry\": {\"type\": \"Point\", \"coordinates\": [139.68, 35.7]}, \"properties\": {\"localTimestamp\": \"2012-04-04 05:07:02\"}}, {\"type\": \"Feature\", \"geometry\": {\"type\": \"Point\", \"coordinates\": [139.82, 35.69]}, \"properties\": {\"localTimestamp\": \"2012-04-04 05:09:38\"}}, {\"type\": \"Feature\", \"geometry\": {\"type\": \"Point\", \"coordinates\": [139.82, 35.69]}, \"properties\": {\"localTimestamp\": \"2012-04-04 05:09:48\"}}, {\"type\": \"Feature\", \"geometry\": {\"type\": \"Point\", \"coordinates\": [139.71, 35.67]}, \"properties\": {\"localTimestamp\": \"2012-04-04 05:09:53\"}}, {\"type\": \"Feature\", \"geometry\": {\"type\": \"Point\", \"coordinates\": [139.89, 35.67]}, \"properties\": {\"localTimestamp\": \"2012-04-04 05:11:55\"}}, {\"type\": \"Feature\", \"geometry\": {\"type\": \"Point\", \"coordinates\": [139.74, 35.65]}, \"properties\": {\"localTimestamp\": \"2012-04-04 05:15:08\"}}, {\"type\": \"Feature\", \"geometry\": {\"type\": \"Point\", \"coordinates\": [139.55, 35.57]}, \"properties\": {\"localTimestamp\": \"2012-04-04 05:15:32\"}}, {\"type\": \"Feature\", \"geometry\": {\"type\": \"Point\", \"coordinates\": [139.9, 35.67]}, \"properties\": {\"localTimestamp\": \"2012-04-04 05:15:54\"}}, {\"type\": \"Feature\", \"geometry\": {\"type\": \"Point\", \"coordinates\": [139.77, 35.69]}, \"properties\": {\"localTimestamp\": \"2012-04-04 05:16:56\"}}, {\"type\": \"Feature\", \"geometry\": {\"type\": \"Point\", \"coordinates\": [139.83, 35.65]}, \"properties\": {\"localTimestamp\": \"2012-04-04 05:17:36\"}}, {\"type\": \"Feature\", \"geometry\": {\"type\": \"Point\", \"coordinates\": [139.75, 35.65]}, \"properties\": {\"localTimestamp\": \"2012-04-04 05:18:12\"}}, {\"type\": \"Feature\", \"geometry\": {\"type\": \"Point\", \"coordinates\": [139.89, 35.67]}, \"properties\": {\"localTimestamp\": \"2012-04-04 05:18:17\"}}, {\"type\": \"Feature\", \"geometry\": {\"type\": \"Point\", \"coordinates\": [139.87, 35.66]}, \"properties\": {\"localTimestamp\": \"2012-04-04 05:21:43\"}}, {\"type\": \"Feature\", \"geometry\": {\"type\": \"Point\", \"coordinates\": [139.76, 35.67]}, \"properties\": {\"localTimestamp\": \"2012-04-04 05:22:52\"}}, {\"type\": \"Feature\", \"geometry\": {\"type\": \"Point\", \"coordinates\": [139.77, 35.69]}, \"properties\": {\"localTimestamp\": \"2012-04-04 05:25:05\"}}, {\"type\": \"Feature\", \"geometry\": {\"type\": \"Point\", \"coordinates\": [139.88, 35.69]}, \"properties\": {\"localTimestamp\": \"2012-04-04 05:26:25\"}}, {\"type\": \"Feature\", \"geometry\": {\"type\": \"Point\", \"coordinates\": [139.74, 35.67]}, \"properties\": {\"localTimestamp\": \"2012-04-04 05:28:36\"}}, {\"type\": \"Feature\", \"geometry\": {\"type\": \"Point\", \"coordinates\": [139.73, 35.66]}, \"properties\": {\"localTimestamp\": \"2012-04-04 05:29:05\"}}, {\"type\": \"Feature\", \"geometry\": {\"type\": \"Point\", \"coordinates\": [139.57, 35.56]}, \"properties\": {\"localTimestamp\": \"2012-04-04 05:29:30\"}}, {\"type\": \"Feature\", \"geometry\": {\"type\": \"Point\", \"coordinates\": [139.57, 35.55]}, \"properties\": {\"localTimestamp\": \"2012-04-04 05:30:46\"}}, {\"type\": \"Feature\", \"geometry\": {\"type\": \"Point\", \"coordinates\": [139.84, 35.69]}, \"properties\": {\"localTimestamp\": \"2012-04-04 05:30:54\"}}, {\"type\": \"Feature\", \"geometry\": {\"type\": \"Point\", \"coordinates\": [139.78, 35.69]}, \"properties\": {\"localTimestamp\": \"2012-04-04 05:31:53\"}}, {\"type\": \"Feature\", \"geometry\": {\"type\": \"Point\", \"coordinates\": [139.75, 35.68]}, \"properties\": {\"localTimestamp\": \"2012-04-04 05:32:37\"}}, {\"type\": \"Feature\", \"geometry\": {\"type\": \"Point\", \"coordinates\": [139.75, 35.72]}, \"properties\": {\"localTimestamp\": \"2012-04-04 05:32:39\"}}, {\"type\": \"Feature\", \"geometry\": {\"type\": \"Point\", \"coordinates\": [139.69, 35.67]}, \"properties\": {\"localTimestamp\": \"2012-04-04 05:33:20\"}}, {\"type\": \"Feature\", \"geometry\": {\"type\": \"Point\", \"coordinates\": [139.72, 35.67]}, \"properties\": {\"localTimestamp\": \"2012-04-04 05:37:43\"}}, {\"type\": \"Feature\", \"geometry\": {\"type\": \"Point\", \"coordinates\": [139.72, 35.67]}, \"properties\": {\"localTimestamp\": \"2012-04-04 05:38:03\"}}, {\"type\": \"Feature\", \"geometry\": {\"type\": \"Point\", \"coordinates\": [139.7, 35.69]}, \"properties\": {\"localTimestamp\": \"2012-04-04 05:38:13\"}}, {\"type\": \"Feature\", \"geometry\": {\"type\": \"Point\", \"coordinates\": [139.58, 35.55]}, \"properties\": {\"localTimestamp\": \"2012-04-04 05:38:33\"}}, {\"type\": \"Feature\", \"geometry\": {\"type\": \"Point\", \"coordinates\": [139.79, 35.69]}, \"properties\": {\"localTimestamp\": \"2012-04-04 05:39:18\"}}, {\"type\": \"Feature\", \"geometry\": {\"type\": \"Point\", \"coordinates\": [139.75, 35.66]}, \"properties\": {\"localTimestamp\": \"2012-04-04 05:39:32\"}}, {\"type\": \"Feature\", \"geometry\": {\"type\": \"Point\", \"coordinates\": [139.76, 35.7]}, \"properties\": {\"localTimestamp\": \"2012-04-04 05:40:20\"}}, {\"type\": \"Feature\", \"geometry\": {\"type\": \"Point\", \"coordinates\": [139.87, 35.66]}, \"properties\": {\"localTimestamp\": \"2012-04-04 05:40:36\"}}, {\"type\": \"Feature\", \"geometry\": {\"type\": \"Point\", \"coordinates\": [139.78, 35.71]}, \"properties\": {\"localTimestamp\": \"2012-04-04 05:41:30\"}}, {\"type\": \"Feature\", \"geometry\": {\"type\": \"Point\", \"coordinates\": [139.81, 35.71]}, \"properties\": {\"localTimestamp\": \"2012-04-04 05:43:04\"}}, {\"type\": \"Feature\", \"geometry\": {\"type\": \"Point\", \"coordinates\": [139.75, 35.72]}, \"properties\": {\"localTimestamp\": \"2012-04-04 05:45:24\"}}, {\"type\": \"Feature\", \"geometry\": {\"type\": \"Point\", \"coordinates\": [139.78, 35.68]}, \"properties\": {\"localTimestamp\": \"2012-04-04 05:45:40\"}}, {\"type\": \"Feature\", \"geometry\": {\"type\": \"Point\", \"coordinates\": [139.57, 35.56]}, \"properties\": {\"localTimestamp\": \"2012-04-04 05:46:16\"}}, {\"type\": \"Feature\", \"geometry\": {\"type\": \"Point\", \"coordinates\": [139.57, 35.56]}, \"properties\": {\"localTimestamp\": \"2012-04-04 05:46:24\"}}, {\"type\": \"Feature\", \"geometry\": {\"type\": \"Point\", \"coordinates\": [139.73, 35.72]}, \"properties\": {\"localTimestamp\": \"2012-04-04 05:47:44\"}}, {\"type\": \"Feature\", \"geometry\": {\"type\": \"Point\", \"coordinates\": [139.79, 35.68]}, \"properties\": {\"localTimestamp\": \"2012-04-04 05:47:53\"}}, {\"type\": \"Feature\", \"geometry\": {\"type\": \"Point\", \"coordinates\": [139.75, 35.67]}, \"properties\": {\"localTimestamp\": \"2012-04-04 05:48:32\"}}, {\"type\": \"Feature\", \"geometry\": {\"type\": \"Point\", \"coordinates\": [139.78, 35.7]}, \"properties\": {\"localTimestamp\": \"2012-04-04 05:49:32\"}}, {\"type\": \"Feature\", \"geometry\": {\"type\": \"Point\", \"coordinates\": [139.75, 35.7]}, \"properties\": {\"localTimestamp\": \"2012-04-04 05:51:44\"}}, {\"type\": \"Feature\", \"geometry\": {\"type\": \"Point\", \"coordinates\": [139.76, 35.67]}, \"properties\": {\"localTimestamp\": \"2012-04-04 05:51:56\"}}, {\"type\": \"Feature\", \"geometry\": {\"type\": \"Point\", \"coordinates\": [139.74, 35.7]}, \"properties\": {\"localTimestamp\": \"2012-04-04 05:55:05\"}}, {\"type\": \"Feature\", \"geometry\": {\"type\": \"Point\", \"coordinates\": [139.7, 35.69]}, \"properties\": {\"localTimestamp\": \"2012-04-04 05:56:49\"}}, {\"type\": \"Feature\", \"geometry\": {\"type\": \"Point\", \"coordinates\": [139.79, 35.68]}, \"properties\": {\"localTimestamp\": \"2012-04-04 05:58:14\"}}, {\"type\": \"Feature\", \"geometry\": {\"type\": \"Point\", \"coordinates\": [139.74, 35.68]}, \"properties\": {\"localTimestamp\": \"2012-04-04 05:58:34\"}}, {\"type\": \"Feature\", \"geometry\": {\"type\": \"Point\", \"coordinates\": [139.71, 35.67]}, \"properties\": {\"localTimestamp\": \"2012-04-04 06:01:04\"}}, {\"type\": \"Feature\", \"geometry\": {\"type\": \"Point\", \"coordinates\": [139.81, 35.67]}, \"properties\": {\"localTimestamp\": \"2012-04-04 06:06:43\"}}, {\"type\": \"Feature\", \"geometry\": {\"type\": \"Point\", \"coordinates\": [139.78, 35.71]}, \"properties\": {\"localTimestamp\": \"2012-04-04 06:06:56\"}}, {\"type\": \"Feature\", \"geometry\": {\"type\": \"Point\", \"coordinates\": [139.77, 35.69]}, \"properties\": {\"localTimestamp\": \"2012-04-04 06:07:44\"}}, {\"type\": \"Feature\", \"geometry\": {\"type\": \"Point\", \"coordinates\": [139.69, 35.67]}, \"properties\": {\"localTimestamp\": \"2012-04-04 06:09:14\"}}, {\"type\": \"Feature\", \"geometry\": {\"type\": \"Point\", \"coordinates\": [139.73, 35.7]}, \"properties\": {\"localTimestamp\": \"2012-04-04 06:11:07\"}}, {\"type\": \"Feature\", \"geometry\": {\"type\": \"Point\", \"coordinates\": [139.76, 35.7]}, \"properties\": {\"localTimestamp\": \"2012-04-04 06:12:06\"}}, {\"type\": \"Feature\", \"geometry\": {\"type\": \"Point\", \"coordinates\": [139.73, 35.69]}, \"properties\": {\"localTimestamp\": \"2012-04-04 06:12:49\"}}, {\"type\": \"Feature\", \"geometry\": {\"type\": \"Point\", \"coordinates\": [139.8, 35.65]}, \"properties\": {\"localTimestamp\": \"2012-04-04 06:13:36\"}}]'"
      ]
     },
     "execution_count": 322,
     "metadata": {},
     "output_type": "execute_result"
    }
   ],
   "source": [
    "json.dumps(json_list, default=timestamp_to_json)"
   ]
  },
  {
   "cell_type": "code",
   "execution_count": 318,
   "metadata": {},
   "outputs": [
    {
     "data": {
      "text/plain": [
       "Timedelta('0 days 01:02:11.222440')"
      ]
     },
     "execution_count": 318,
     "metadata": {},
     "output_type": "execute_result"
    }
   ],
   "source": [
    "df_subway_small[10:1000]['localTimestamp'].diff().std()"
   ]
  },
  {
   "cell_type": "code",
   "execution_count": 24,
   "metadata": {},
   "outputs": [
    {
     "data": {
      "text/html": [
       "<div>\n",
       "<style>\n",
       "    .dataframe thead tr:only-child th {\n",
       "        text-align: right;\n",
       "    }\n",
       "\n",
       "    .dataframe thead th {\n",
       "        text-align: left;\n",
       "    }\n",
       "\n",
       "    .dataframe tbody tr th {\n",
       "        vertical-align: top;\n",
       "    }\n",
       "</style>\n",
       "<table border=\"1\" class=\"dataframe\">\n",
       "  <thead>\n",
       "    <tr style=\"text-align: right;\">\n",
       "      <th></th>\n",
       "      <th>venueId</th>\n",
       "      <th>latitude</th>\n",
       "      <th>longitude</th>\n",
       "      <th>localTimestamp</th>\n",
       "    </tr>\n",
       "  </thead>\n",
       "  <tbody>\n",
       "    <tr>\n",
       "      <th>32</th>\n",
       "      <td>4b5da9e0f964a520bb6529e3</td>\n",
       "      <td>35.749</td>\n",
       "      <td>139.72</td>\n",
       "      <td>2012-04-04 02:59:52</td>\n",
       "    </tr>\n",
       "    <tr>\n",
       "      <th>34</th>\n",
       "      <td>4b8c5418f964a520e3ca32e3</td>\n",
       "      <td>35.682</td>\n",
       "      <td>139.80</td>\n",
       "      <td>2012-04-04 03:04:04</td>\n",
       "    </tr>\n",
       "    <tr>\n",
       "      <th>54</th>\n",
       "      <td>4b5bac4af964a520200f29e3</td>\n",
       "      <td>35.550</td>\n",
       "      <td>139.63</td>\n",
       "      <td>2012-04-04 03:39:12</td>\n",
       "    </tr>\n",
       "    <tr>\n",
       "      <th>65</th>\n",
       "      <td>4b7481e1f964a520bde02de3</td>\n",
       "      <td>35.730</td>\n",
       "      <td>139.71</td>\n",
       "      <td>2012-04-04 03:52:17</td>\n",
       "    </tr>\n",
       "    <tr>\n",
       "      <th>75</th>\n",
       "      <td>4b2692f9f964a520be7d24e3</td>\n",
       "      <td>35.689</td>\n",
       "      <td>139.71</td>\n",
       "      <td>2012-04-04 03:56:43</td>\n",
       "    </tr>\n",
       "    <tr>\n",
       "      <th>92</th>\n",
       "      <td>4b5599caf964a5209be827e3</td>\n",
       "      <td>35.670</td>\n",
       "      <td>139.82</td>\n",
       "      <td>2012-04-04 04:06:34</td>\n",
       "    </tr>\n",
       "    <tr>\n",
       "      <th>93</th>\n",
       "      <td>4bd6b3024e32d13a50f6c280</td>\n",
       "      <td>35.665</td>\n",
       "      <td>139.86</td>\n",
       "      <td>2012-04-04 04:06:57</td>\n",
       "    </tr>\n",
       "    <tr>\n",
       "      <th>105</th>\n",
       "      <td>4b9b8cd2f964a520c30e36e3</td>\n",
       "      <td>35.676</td>\n",
       "      <td>139.76</td>\n",
       "      <td>2012-04-04 04:12:01</td>\n",
       "    </tr>\n",
       "    <tr>\n",
       "      <th>108</th>\n",
       "      <td>4b66c862f964a520aa2a2be3</td>\n",
       "      <td>35.605</td>\n",
       "      <td>139.71</td>\n",
       "      <td>2012-04-04 04:13:27</td>\n",
       "    </tr>\n",
       "    <tr>\n",
       "      <th>125</th>\n",
       "      <td>4b5e34f8f964a520bb8329e3</td>\n",
       "      <td>35.696</td>\n",
       "      <td>139.75</td>\n",
       "      <td>2012-04-04 04:21:13</td>\n",
       "    </tr>\n",
       "    <tr>\n",
       "      <th>126</th>\n",
       "      <td>4b971b9ff964a5205ff834e3</td>\n",
       "      <td>35.685</td>\n",
       "      <td>139.77</td>\n",
       "      <td>2012-04-04 04:21:30</td>\n",
       "    </tr>\n",
       "    <tr>\n",
       "      <th>130</th>\n",
       "      <td>4dc5e8f5e4cd169dc659fe4d</td>\n",
       "      <td>35.792</td>\n",
       "      <td>139.65</td>\n",
       "      <td>2012-04-04 04:23:00</td>\n",
       "    </tr>\n",
       "    <tr>\n",
       "      <th>138</th>\n",
       "      <td>4b567b47f964a520651228e3</td>\n",
       "      <td>35.726</td>\n",
       "      <td>139.73</td>\n",
       "      <td>2012-04-04 04:25:09</td>\n",
       "    </tr>\n",
       "    <tr>\n",
       "      <th>155</th>\n",
       "      <td>4b669d8af964a52097252be3</td>\n",
       "      <td>35.647</td>\n",
       "      <td>139.75</td>\n",
       "      <td>2012-04-04 04:29:34</td>\n",
       "    </tr>\n",
       "    <tr>\n",
       "      <th>156</th>\n",
       "      <td>4b54fad0f964a52057d627e3</td>\n",
       "      <td>35.664</td>\n",
       "      <td>139.87</td>\n",
       "      <td>2012-04-04 04:29:46</td>\n",
       "    </tr>\n",
       "    <tr>\n",
       "      <th>166</th>\n",
       "      <td>4b467c9af964a5206c2226e3</td>\n",
       "      <td>35.682</td>\n",
       "      <td>139.80</td>\n",
       "      <td>2012-04-04 04:32:03</td>\n",
       "    </tr>\n",
       "    <tr>\n",
       "      <th>181</th>\n",
       "      <td>4b84c06cf964a520334331e3</td>\n",
       "      <td>35.701</td>\n",
       "      <td>139.76</td>\n",
       "      <td>2012-04-04 04:35:47</td>\n",
       "    </tr>\n",
       "    <tr>\n",
       "      <th>190</th>\n",
       "      <td>4b6a97d2f964a520a6d92be3</td>\n",
       "      <td>35.698</td>\n",
       "      <td>139.78</td>\n",
       "      <td>2012-04-04 04:37:25</td>\n",
       "    </tr>\n",
       "    <tr>\n",
       "      <th>191</th>\n",
       "      <td>4b6d4872f964a5202e6f2ce3</td>\n",
       "      <td>35.686</td>\n",
       "      <td>139.76</td>\n",
       "      <td>2012-04-04 04:37:30</td>\n",
       "    </tr>\n",
       "    <tr>\n",
       "      <th>192</th>\n",
       "      <td>4b54ff13f964a5201fd727e3</td>\n",
       "      <td>35.698</td>\n",
       "      <td>139.65</td>\n",
       "      <td>2012-04-04 04:37:35</td>\n",
       "    </tr>\n",
       "    <tr>\n",
       "      <th>217</th>\n",
       "      <td>4b78815ef964a520c9d22ee3</td>\n",
       "      <td>35.691</td>\n",
       "      <td>139.71</td>\n",
       "      <td>2012-04-04 04:44:43</td>\n",
       "    </tr>\n",
       "    <tr>\n",
       "      <th>224</th>\n",
       "      <td>4b24b5e7f964a5208d6924e3</td>\n",
       "      <td>35.726</td>\n",
       "      <td>139.72</td>\n",
       "      <td>2012-04-04 04:45:17</td>\n",
       "    </tr>\n",
       "    <tr>\n",
       "      <th>235</th>\n",
       "      <td>4b7cd447f964a520caa62fe3</td>\n",
       "      <td>35.673</td>\n",
       "      <td>139.72</td>\n",
       "      <td>2012-04-04 04:47:11</td>\n",
       "    </tr>\n",
       "    <tr>\n",
       "      <th>236</th>\n",
       "      <td>4b269340f964a520c27d24e3</td>\n",
       "      <td>35.678</td>\n",
       "      <td>139.71</td>\n",
       "      <td>2012-04-04 04:47:13</td>\n",
       "    </tr>\n",
       "    <tr>\n",
       "      <th>237</th>\n",
       "      <td>4b4487c9f964a5201ef625e3</td>\n",
       "      <td>35.677</td>\n",
       "      <td>139.74</td>\n",
       "      <td>2012-04-04 04:47:13</td>\n",
       "    </tr>\n",
       "    <tr>\n",
       "      <th>239</th>\n",
       "      <td>4b5cda0ef964a5205f4729e3</td>\n",
       "      <td>35.697</td>\n",
       "      <td>139.68</td>\n",
       "      <td>2012-04-04 04:47:19</td>\n",
       "    </tr>\n",
       "    <tr>\n",
       "      <th>240</th>\n",
       "      <td>4b669d8af964a52097252be3</td>\n",
       "      <td>35.647</td>\n",
       "      <td>139.75</td>\n",
       "      <td>2012-04-04 04:47:28</td>\n",
       "    </tr>\n",
       "    <tr>\n",
       "      <th>242</th>\n",
       "      <td>4b6fef86f964a5209a002de3</td>\n",
       "      <td>35.669</td>\n",
       "      <td>139.70</td>\n",
       "      <td>2012-04-04 04:49:17</td>\n",
       "    </tr>\n",
       "    <tr>\n",
       "      <th>251</th>\n",
       "      <td>4b18c616f964a520a7d523e3</td>\n",
       "      <td>35.672</td>\n",
       "      <td>139.79</td>\n",
       "      <td>2012-04-04 04:51:06</td>\n",
       "    </tr>\n",
       "    <tr>\n",
       "      <th>254</th>\n",
       "      <td>4dc5e8f5e4cd169dc659fe4d</td>\n",
       "      <td>35.792</td>\n",
       "      <td>139.65</td>\n",
       "      <td>2012-04-04 04:51:43</td>\n",
       "    </tr>\n",
       "    <tr>\n",
       "      <th>...</th>\n",
       "      <td>...</td>\n",
       "      <td>...</td>\n",
       "      <td>...</td>\n",
       "      <td>...</td>\n",
       "    </tr>\n",
       "    <tr>\n",
       "      <th>573265</th>\n",
       "      <td>4b55aa95f964a52007eb27e3</td>\n",
       "      <td>35.680</td>\n",
       "      <td>139.71</td>\n",
       "      <td>2013-02-14 16:51:57</td>\n",
       "    </tr>\n",
       "    <tr>\n",
       "      <th>573276</th>\n",
       "      <td>4b971b9ff964a5205ff834e3</td>\n",
       "      <td>35.685</td>\n",
       "      <td>139.77</td>\n",
       "      <td>2013-02-14 16:58:12</td>\n",
       "    </tr>\n",
       "    <tr>\n",
       "      <th>573282</th>\n",
       "      <td>4b58df1ff964a520137028e3</td>\n",
       "      <td>35.704</td>\n",
       "      <td>139.73</td>\n",
       "      <td>2013-02-14 16:59:42</td>\n",
       "    </tr>\n",
       "    <tr>\n",
       "      <th>573289</th>\n",
       "      <td>4ce4f953b43737046644f6ce</td>\n",
       "      <td>35.685</td>\n",
       "      <td>139.77</td>\n",
       "      <td>2013-02-14 17:03:09</td>\n",
       "    </tr>\n",
       "    <tr>\n",
       "      <th>573292</th>\n",
       "      <td>4b598750f964a520448b28e3</td>\n",
       "      <td>35.724</td>\n",
       "      <td>139.75</td>\n",
       "      <td>2013-02-14 17:03:46</td>\n",
       "    </tr>\n",
       "    <tr>\n",
       "      <th>573324</th>\n",
       "      <td>4b56b1f3f964a520d01828e3</td>\n",
       "      <td>35.689</td>\n",
       "      <td>139.83</td>\n",
       "      <td>2013-02-14 17:10:49</td>\n",
       "    </tr>\n",
       "    <tr>\n",
       "      <th>573340</th>\n",
       "      <td>4b4d9126f964a5202ed426e3</td>\n",
       "      <td>35.670</td>\n",
       "      <td>139.75</td>\n",
       "      <td>2013-02-14 17:14:26</td>\n",
       "    </tr>\n",
       "    <tr>\n",
       "      <th>573344</th>\n",
       "      <td>4b47b936f964a520f53b26e3</td>\n",
       "      <td>35.671</td>\n",
       "      <td>139.72</td>\n",
       "      <td>2013-02-14 17:15:20</td>\n",
       "    </tr>\n",
       "    <tr>\n",
       "      <th>573371</th>\n",
       "      <td>4b340afff964a5204b2425e3</td>\n",
       "      <td>35.682</td>\n",
       "      <td>139.79</td>\n",
       "      <td>2013-02-14 17:22:03</td>\n",
       "    </tr>\n",
       "    <tr>\n",
       "      <th>573393</th>\n",
       "      <td>4b70eccff964a5207e342de3</td>\n",
       "      <td>35.687</td>\n",
       "      <td>139.77</td>\n",
       "      <td>2013-02-14 17:30:17</td>\n",
       "    </tr>\n",
       "    <tr>\n",
       "      <th>573395</th>\n",
       "      <td>4b661945f964a5208e132be3</td>\n",
       "      <td>35.712</td>\n",
       "      <td>139.78</td>\n",
       "      <td>2013-02-14 17:31:57</td>\n",
       "    </tr>\n",
       "    <tr>\n",
       "      <th>573398</th>\n",
       "      <td>4b575064f964a520ce3028e3</td>\n",
       "      <td>35.692</td>\n",
       "      <td>139.78</td>\n",
       "      <td>2013-02-14 17:32:27</td>\n",
       "    </tr>\n",
       "    <tr>\n",
       "      <th>573401</th>\n",
       "      <td>50068d9ae4b042636d7fe03e</td>\n",
       "      <td>35.692</td>\n",
       "      <td>139.78</td>\n",
       "      <td>2013-02-14 17:33:00</td>\n",
       "    </tr>\n",
       "    <tr>\n",
       "      <th>573409</th>\n",
       "      <td>4b9b8cd2f964a520c30e36e3</td>\n",
       "      <td>35.676</td>\n",
       "      <td>139.76</td>\n",
       "      <td>2013-02-14 17:35:17</td>\n",
       "    </tr>\n",
       "    <tr>\n",
       "      <th>573476</th>\n",
       "      <td>4b55b89bf964a52026ed27e3</td>\n",
       "      <td>35.758</td>\n",
       "      <td>139.63</td>\n",
       "      <td>2013-02-14 17:52:33</td>\n",
       "    </tr>\n",
       "    <tr>\n",
       "      <th>573496</th>\n",
       "      <td>4b9b8cd2f964a520c30e36e3</td>\n",
       "      <td>35.676</td>\n",
       "      <td>139.76</td>\n",
       "      <td>2013-02-14 17:59:46</td>\n",
       "    </tr>\n",
       "    <tr>\n",
       "      <th>573502</th>\n",
       "      <td>4b7ba460f964a520a4692fe3</td>\n",
       "      <td>35.655</td>\n",
       "      <td>139.74</td>\n",
       "      <td>2013-02-14 18:02:29</td>\n",
       "    </tr>\n",
       "    <tr>\n",
       "      <th>573516</th>\n",
       "      <td>4b5a6863f964a52031c328e3</td>\n",
       "      <td>35.787</td>\n",
       "      <td>139.67</td>\n",
       "      <td>2013-02-14 18:05:48</td>\n",
       "    </tr>\n",
       "    <tr>\n",
       "      <th>573521</th>\n",
       "      <td>4e804d1c9a52c3af7b197bce</td>\n",
       "      <td>35.696</td>\n",
       "      <td>139.75</td>\n",
       "      <td>2013-02-14 18:06:28</td>\n",
       "    </tr>\n",
       "    <tr>\n",
       "      <th>573522</th>\n",
       "      <td>4b46d0ebf964a520982826e3</td>\n",
       "      <td>35.696</td>\n",
       "      <td>139.75</td>\n",
       "      <td>2013-02-14 18:06:33</td>\n",
       "    </tr>\n",
       "    <tr>\n",
       "      <th>573596</th>\n",
       "      <td>4b5d54a2f964a5200e5a29e3</td>\n",
       "      <td>35.701</td>\n",
       "      <td>139.74</td>\n",
       "      <td>2013-02-16 07:43:07</td>\n",
       "    </tr>\n",
       "    <tr>\n",
       "      <th>573598</th>\n",
       "      <td>4b5b04cff964a52026df28e3</td>\n",
       "      <td>35.702</td>\n",
       "      <td>139.75</td>\n",
       "      <td>2013-02-16 07:43:25</td>\n",
       "    </tr>\n",
       "    <tr>\n",
       "      <th>573603</th>\n",
       "      <td>4b5599caf964a5209be827e3</td>\n",
       "      <td>35.670</td>\n",
       "      <td>139.82</td>\n",
       "      <td>2013-02-16 07:44:49</td>\n",
       "    </tr>\n",
       "    <tr>\n",
       "      <th>573626</th>\n",
       "      <td>4b663f1bf964a520891a2be3</td>\n",
       "      <td>35.711</td>\n",
       "      <td>139.78</td>\n",
       "      <td>2013-02-16 08:00:33</td>\n",
       "    </tr>\n",
       "    <tr>\n",
       "      <th>573627</th>\n",
       "      <td>4b4487c9f964a5201ef625e3</td>\n",
       "      <td>35.677</td>\n",
       "      <td>139.74</td>\n",
       "      <td>2013-02-16 08:00:45</td>\n",
       "    </tr>\n",
       "    <tr>\n",
       "      <th>573629</th>\n",
       "      <td>4b0a405ff964a520c22223e3</td>\n",
       "      <td>35.667</td>\n",
       "      <td>139.73</td>\n",
       "      <td>2013-02-16 08:01:59</td>\n",
       "    </tr>\n",
       "    <tr>\n",
       "      <th>573650</th>\n",
       "      <td>4b7e455ef964a520e0e72fe3</td>\n",
       "      <td>35.686</td>\n",
       "      <td>139.78</td>\n",
       "      <td>2013-02-16 08:12:04</td>\n",
       "    </tr>\n",
       "    <tr>\n",
       "      <th>573654</th>\n",
       "      <td>4b0a405ff964a520c22223e3</td>\n",
       "      <td>35.667</td>\n",
       "      <td>139.73</td>\n",
       "      <td>2013-02-16 08:13:42</td>\n",
       "    </tr>\n",
       "    <tr>\n",
       "      <th>573688</th>\n",
       "      <td>4b8da54ef964a5202e0633e3</td>\n",
       "      <td>35.664</td>\n",
       "      <td>139.78</td>\n",
       "      <td>2013-02-16 08:29:41</td>\n",
       "    </tr>\n",
       "    <tr>\n",
       "      <th>573697</th>\n",
       "      <td>4b56c4c5f964a520c41a28e3</td>\n",
       "      <td>35.710</td>\n",
       "      <td>139.79</td>\n",
       "      <td>2013-02-16 08:34:32</td>\n",
       "    </tr>\n",
       "  </tbody>\n",
       "</table>\n",
       "<p>41666 rows × 4 columns</p>\n",
       "</div>"
      ],
      "text/plain": [
       "                         venueId  latitude  longitude      localTimestamp\n",
       "32      4b5da9e0f964a520bb6529e3    35.749     139.72 2012-04-04 02:59:52\n",
       "34      4b8c5418f964a520e3ca32e3    35.682     139.80 2012-04-04 03:04:04\n",
       "54      4b5bac4af964a520200f29e3    35.550     139.63 2012-04-04 03:39:12\n",
       "65      4b7481e1f964a520bde02de3    35.730     139.71 2012-04-04 03:52:17\n",
       "75      4b2692f9f964a520be7d24e3    35.689     139.71 2012-04-04 03:56:43\n",
       "92      4b5599caf964a5209be827e3    35.670     139.82 2012-04-04 04:06:34\n",
       "93      4bd6b3024e32d13a50f6c280    35.665     139.86 2012-04-04 04:06:57\n",
       "105     4b9b8cd2f964a520c30e36e3    35.676     139.76 2012-04-04 04:12:01\n",
       "108     4b66c862f964a520aa2a2be3    35.605     139.71 2012-04-04 04:13:27\n",
       "125     4b5e34f8f964a520bb8329e3    35.696     139.75 2012-04-04 04:21:13\n",
       "126     4b971b9ff964a5205ff834e3    35.685     139.77 2012-04-04 04:21:30\n",
       "130     4dc5e8f5e4cd169dc659fe4d    35.792     139.65 2012-04-04 04:23:00\n",
       "138     4b567b47f964a520651228e3    35.726     139.73 2012-04-04 04:25:09\n",
       "155     4b669d8af964a52097252be3    35.647     139.75 2012-04-04 04:29:34\n",
       "156     4b54fad0f964a52057d627e3    35.664     139.87 2012-04-04 04:29:46\n",
       "166     4b467c9af964a5206c2226e3    35.682     139.80 2012-04-04 04:32:03\n",
       "181     4b84c06cf964a520334331e3    35.701     139.76 2012-04-04 04:35:47\n",
       "190     4b6a97d2f964a520a6d92be3    35.698     139.78 2012-04-04 04:37:25\n",
       "191     4b6d4872f964a5202e6f2ce3    35.686     139.76 2012-04-04 04:37:30\n",
       "192     4b54ff13f964a5201fd727e3    35.698     139.65 2012-04-04 04:37:35\n",
       "217     4b78815ef964a520c9d22ee3    35.691     139.71 2012-04-04 04:44:43\n",
       "224     4b24b5e7f964a5208d6924e3    35.726     139.72 2012-04-04 04:45:17\n",
       "235     4b7cd447f964a520caa62fe3    35.673     139.72 2012-04-04 04:47:11\n",
       "236     4b269340f964a520c27d24e3    35.678     139.71 2012-04-04 04:47:13\n",
       "237     4b4487c9f964a5201ef625e3    35.677     139.74 2012-04-04 04:47:13\n",
       "239     4b5cda0ef964a5205f4729e3    35.697     139.68 2012-04-04 04:47:19\n",
       "240     4b669d8af964a52097252be3    35.647     139.75 2012-04-04 04:47:28\n",
       "242     4b6fef86f964a5209a002de3    35.669     139.70 2012-04-04 04:49:17\n",
       "251     4b18c616f964a520a7d523e3    35.672     139.79 2012-04-04 04:51:06\n",
       "254     4dc5e8f5e4cd169dc659fe4d    35.792     139.65 2012-04-04 04:51:43\n",
       "...                          ...       ...        ...                 ...\n",
       "573265  4b55aa95f964a52007eb27e3    35.680     139.71 2013-02-14 16:51:57\n",
       "573276  4b971b9ff964a5205ff834e3    35.685     139.77 2013-02-14 16:58:12\n",
       "573282  4b58df1ff964a520137028e3    35.704     139.73 2013-02-14 16:59:42\n",
       "573289  4ce4f953b43737046644f6ce    35.685     139.77 2013-02-14 17:03:09\n",
       "573292  4b598750f964a520448b28e3    35.724     139.75 2013-02-14 17:03:46\n",
       "573324  4b56b1f3f964a520d01828e3    35.689     139.83 2013-02-14 17:10:49\n",
       "573340  4b4d9126f964a5202ed426e3    35.670     139.75 2013-02-14 17:14:26\n",
       "573344  4b47b936f964a520f53b26e3    35.671     139.72 2013-02-14 17:15:20\n",
       "573371  4b340afff964a5204b2425e3    35.682     139.79 2013-02-14 17:22:03\n",
       "573393  4b70eccff964a5207e342de3    35.687     139.77 2013-02-14 17:30:17\n",
       "573395  4b661945f964a5208e132be3    35.712     139.78 2013-02-14 17:31:57\n",
       "573398  4b575064f964a520ce3028e3    35.692     139.78 2013-02-14 17:32:27\n",
       "573401  50068d9ae4b042636d7fe03e    35.692     139.78 2013-02-14 17:33:00\n",
       "573409  4b9b8cd2f964a520c30e36e3    35.676     139.76 2013-02-14 17:35:17\n",
       "573476  4b55b89bf964a52026ed27e3    35.758     139.63 2013-02-14 17:52:33\n",
       "573496  4b9b8cd2f964a520c30e36e3    35.676     139.76 2013-02-14 17:59:46\n",
       "573502  4b7ba460f964a520a4692fe3    35.655     139.74 2013-02-14 18:02:29\n",
       "573516  4b5a6863f964a52031c328e3    35.787     139.67 2013-02-14 18:05:48\n",
       "573521  4e804d1c9a52c3af7b197bce    35.696     139.75 2013-02-14 18:06:28\n",
       "573522  4b46d0ebf964a520982826e3    35.696     139.75 2013-02-14 18:06:33\n",
       "573596  4b5d54a2f964a5200e5a29e3    35.701     139.74 2013-02-16 07:43:07\n",
       "573598  4b5b04cff964a52026df28e3    35.702     139.75 2013-02-16 07:43:25\n",
       "573603  4b5599caf964a5209be827e3    35.670     139.82 2013-02-16 07:44:49\n",
       "573626  4b663f1bf964a520891a2be3    35.711     139.78 2013-02-16 08:00:33\n",
       "573627  4b4487c9f964a5201ef625e3    35.677     139.74 2013-02-16 08:00:45\n",
       "573629  4b0a405ff964a520c22223e3    35.667     139.73 2013-02-16 08:01:59\n",
       "573650  4b7e455ef964a520e0e72fe3    35.686     139.78 2013-02-16 08:12:04\n",
       "573654  4b0a405ff964a520c22223e3    35.667     139.73 2013-02-16 08:13:42\n",
       "573688  4b8da54ef964a5202e0633e3    35.664     139.78 2013-02-16 08:29:41\n",
       "573697  4b56c4c5f964a520c41a28e3    35.710     139.79 2013-02-16 08:34:32\n",
       "\n",
       "[41666 rows x 4 columns]"
      ]
     },
     "execution_count": 24,
     "metadata": {},
     "output_type": "execute_result"
    }
   ],
   "source": [
    "df_subway_small"
   ]
  },
  {
   "cell_type": "code",
   "execution_count": null,
   "metadata": {
    "collapsed": true
   },
   "outputs": [],
   "source": []
  }
 ],
 "metadata": {
  "kernelspec": {
   "display_name": "Python 3",
   "language": "python",
   "name": "python3"
  },
  "language_info": {
   "codemirror_mode": {
    "name": "ipython",
    "version": 3
   },
   "file_extension": ".py",
   "mimetype": "text/x-python",
   "name": "python",
   "nbconvert_exporter": "python",
   "pygments_lexer": "ipython3",
   "version": "3.6.3"
  }
 },
 "nbformat": 4,
 "nbformat_minor": 2
}
