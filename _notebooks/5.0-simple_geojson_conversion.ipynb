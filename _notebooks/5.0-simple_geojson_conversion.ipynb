{
 "cells": [
  {
   "cell_type": "markdown",
   "metadata": {},
   "source": [
    "## GeoJSON conversion"
   ]
  },
  {
   "cell_type": "code",
   "execution_count": 1,
   "metadata": {
    "collapsed": true
   },
   "outputs": [],
   "source": [
    "import pandas as pd"
   ]
  },
  {
   "cell_type": "code",
   "execution_count": 7,
   "metadata": {
    "collapsed": true
   },
   "outputs": [],
   "source": [
    "import json"
   ]
  },
  {
   "cell_type": "code",
   "execution_count": 2,
   "metadata": {
    "collapsed": true
   },
   "outputs": [],
   "source": [
    "df_merged = pd.read_csv('../_data/df_subway_merged.csv')\n",
    "df_merged['localTimestamp'] = pd.to_datetime(df_merged['localTimestamp'])"
   ]
  },
  {
   "cell_type": "code",
   "execution_count": 4,
   "metadata": {},
   "outputs": [],
   "source": [
    "df_merged_small = df_merged[['latitude', 'longitude', 'localTimestamp', 'line_name', 'name']]"
   ]
  },
  {
   "cell_type": "code",
   "execution_count": 6,
   "metadata": {},
   "outputs": [
    {
     "data": {
      "text/plain": [
       "array(['Toei Mita Line', 'Tokyo Metro Yurakucho Line',\n",
       "       'Tokyo Metro Marunouchi Line', 'Tokyo Metro Tozai Line',\n",
       "       'Tokyo Metro Hanzomon Line', 'Toei Shinjuku Line',\n",
       "       'Tokyo Metro Hibiya Line', 'Tokyo Metro Chiyoda Line',\n",
       "       'Toei Oedo Line', 'Tokyo Metro Ginza Line', 'Toei Asakusa Line',\n",
       "       'Tokyo Metro Namboku Line', 'Tokyo Metro Fukutoshin Line'], dtype=object)"
      ]
     },
     "execution_count": 6,
     "metadata": {},
     "output_type": "execute_result"
    }
   ],
   "source": [
    "df_merged_small['line_name'].unique()"
   ]
  },
  {
   "cell_type": "markdown",
   "metadata": {},
   "source": [
    "### Color mapping"
   ]
  },
  {
   "cell_type": "code",
   "execution_count": null,
   "metadata": {
    "collapsed": true
   },
   "outputs": [],
   "source": [
    "dict_colors = {'Toei Mita Line': '#0080c6', 'Tokyo Metro Yurakucho Line': '#bb8b38', \n",
    "               'Tokyo Metro Marunouchi Line': '#ed1c24', 'Tokyo Metro Tozai Line': '#00b2dd',\n",
    "               ''\n",
    "       'Tokyo Metro Hanzomon Line', 'Toei Shinjuku Line',\n",
    "       'Tokyo Metro Hibiya Line', 'Tokyo Metro Chiyoda Line',\n",
    "       'Toei Oedo Line', 'Tokyo Metro Ginza Line', 'Toei Asakusa Line',\n",
    "       'Tokyo Metro Namboku Line', 'Tokyo Metro Fukutoshin Line'}"
   ]
  }
 ],
 "metadata": {
  "kernelspec": {
   "display_name": "Python 3",
   "language": "python",
   "name": "python3"
  },
  "language_info": {
   "codemirror_mode": {
    "name": "ipython",
    "version": 3
   },
   "file_extension": ".py",
   "mimetype": "text/x-python",
   "name": "python",
   "nbconvert_exporter": "python",
   "pygments_lexer": "ipython3",
   "version": "3.6.3"
  }
 },
 "nbformat": 4,
 "nbformat_minor": 2
}
